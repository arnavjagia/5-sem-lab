{
 "cells": [
  {
   "cell_type": "code",
   "execution_count": 46,
   "metadata": {},
   "outputs": [],
   "source": [
    "import numpy as np"
   ]
  },
  {
   "cell_type": "markdown",
   "metadata": {},
   "source": [
    "1. Convert a 1-D array into a 2-D array with 3 rows.  \n",
    "Start with:  \n",
    "Assign-1 = np.array([0, 1, 2, 3, 4, 5, 6, 7, 8])  \n",
    "Desired output:  \n",
    "[[ 0, 1, 2]  \n",
    "[3, 4, 5]  \n",
    "[6, 7, 8]]  "
   ]
  },
  {
   "cell_type": "code",
   "execution_count": 47,
   "metadata": {},
   "outputs": [
    {
     "data": {
      "text/plain": [
       "array([[0, 1, 2],\n",
       "       [3, 4, 5],\n",
       "       [6, 7, 8]])"
      ]
     },
     "execution_count": 47,
     "metadata": {},
     "output_type": "execute_result"
    }
   ],
   "source": [
    "b = np.arange(0, 9)\n",
    "b.shape = (3, -1)\n",
    "b"
   ]
  },
  {
   "cell_type": "markdown",
   "metadata": {},
   "source": [
    "2. Replace all odd numbers in the given array with -1  \n",
    "Start with:  \n",
    "Assign-2 = np.array([0, 1, 2, 3, 4, 5, 6, 7, 8, 9])  \n",
    "Desired output:  \n",
    "[ 0, -1, 2, -1, 4, -1, 6, -1, 8, -1] "
   ]
  },
  {
   "cell_type": "code",
   "execution_count": 48,
   "metadata": {},
   "outputs": [
    {
     "data": {
      "text/plain": [
       "array([ 0, -1,  2, -1,  4, -1,  6, -1,  8, -1])"
      ]
     },
     "execution_count": 48,
     "metadata": {},
     "output_type": "execute_result"
    }
   ],
   "source": [
    "a = np.arange(0, 10)\n",
    "odd_mask = (a & 1) == 1\n",
    "a[odd_mask] = -1\n",
    "a"
   ]
  },
  {
   "cell_type": "markdown",
   "metadata": {},
   "source": [
    "3. Find the positions of:  \n",
    "  \n",
    "elements in x where its value is more than its corresponding element in y, and  \n",
    "elements in x where its value is equals to its corresponding element in y. "
   ]
  },
  {
   "cell_type": "code",
   "execution_count": 49,
   "metadata": {},
   "outputs": [
    {
     "name": "stdout",
     "output_type": "stream",
     "text": [
      "(array([1, 2, 4, 5, 6, 7, 8, 9]),)\n",
      "(array([0]),)\n"
     ]
    }
   ],
   "source": [
    "x = np.array([21, 64, 86, 22, 74, 55, 81, 79, 90, 89])\n",
    "y = np.array([21, 7, 3, 45, 10, 29, 55, 4, 37, 18])\n",
    "print(np.where(x > y))\n",
    "print(np.where(x == y))"
   ]
  },
  {
   "cell_type": "markdown",
   "metadata": {},
   "source": [
    "4. Extract the first four columns of this 2-D array.  "
   ]
  },
  {
   "cell_type": "code",
   "execution_count": 50,
   "metadata": {},
   "outputs": [
    {
     "name": "stdout",
     "output_type": "stream",
     "text": [
      "[[ 0  1  2  3]\n",
      " [20 21 22 23]\n",
      " [40 41 42 43]\n",
      " [60 61 62 63]\n",
      " [80 81 82 83]]\n"
     ]
    }
   ],
   "source": [
    "a = np.arange(100).reshape(5, -1)\n",
    "print(a[:, :4])"
   ]
  },
  {
   "cell_type": "markdown",
   "metadata": {},
   "source": [
    "### Additional Questions"
   ]
  },
  {
   "cell_type": "markdown",
   "metadata": {},
   "source": [
    "1. Generate a 1-D array of 10 random integers. Each integer should be a number between 30 and 40 (inclusive)."
   ]
  },
  {
   "cell_type": "code",
   "execution_count": 51,
   "metadata": {},
   "outputs": [
    {
     "data": {
      "text/plain": [
       "array([37, 39, 32, 38, 34, 33, 34, 36, 34, 37], dtype=int32)"
      ]
     },
     "execution_count": 51,
     "metadata": {},
     "output_type": "execute_result"
    }
   ],
   "source": [
    "a = np.random.randint(30, 40, (10, ))\n",
    "a"
   ]
  },
  {
   "cell_type": "markdown",
   "metadata": {},
   "source": [
    "2. Consider the following matrices :  \n",
    "A= ((1, 2, 3), (4, 5, 6), (7, 8, 10)) and   B = ((7, 8, 10) ,(4, 5, 6), (1, 2, 3))  \n",
    "Write a python program to perform the following using Numeric Python (numpy).  \n",
    "i) Add and Subtract of the Matrix A and B, print the resultant matrix C for add and E for subtract.  \n",
    "ii) Compute the sum of all elements of Matrix A, sum of each column of Matrix B and sum of each row of Matrix C  \n",
    "iii) Product of two matrices A and B, and print the resultant matrix D  \n",
    "iv) Sort the elements of resultant matrix C and print the resultant Matrix E.                             \n",
    "v) Transpose the Matrix E and print the result  "
   ]
  },
  {
   "cell_type": "code",
   "execution_count": 52,
   "metadata": {},
   "outputs": [
    {
     "name": "stdout",
     "output_type": "stream",
     "text": [
      "a:\n",
      "[[ 1  2  3]\n",
      " [ 4  5  6]\n",
      " [ 7  8 10]]\n",
      "\n",
      "b:\n",
      "[[ 7  8 10]\n",
      " [ 4  5  6]\n",
      " [ 1  2  3]]\n"
     ]
    }
   ],
   "source": [
    "a = np.array(((1, 2, 3),\n",
    "              (4, 5, 6),\n",
    "              (7, 8, 10)))\n",
    "b = np.array(((7, 8, 10),\n",
    "              (4, 5, 6),\n",
    "              (1, 2, 3)))\n",
    "print(f'a:\\n{a}')\n",
    "print(f'\\nb:\\n{b}')"
   ]
  },
  {
   "cell_type": "code",
   "execution_count": 53,
   "metadata": {},
   "outputs": [
    {
     "name": "stdout",
     "output_type": "stream",
     "text": [
      "c:\n",
      "[[ 8 10 13]\n",
      " [ 8 10 12]\n",
      " [ 8 10 13]]\n",
      "\n",
      "e:\n",
      "[[-6 -6 -7]\n",
      " [ 0  0  0]\n",
      " [ 6  6  7]]\n"
     ]
    }
   ],
   "source": [
    "c = a + b\n",
    "e = a - b\n",
    "print(f'c:\\n{c}')\n",
    "print(f'\\ne:\\n{e}')"
   ]
  },
  {
   "cell_type": "code",
   "execution_count": 54,
   "metadata": {},
   "outputs": [
    {
     "name": "stdout",
     "output_type": "stream",
     "text": [
      "46\n",
      "[12 15 19]\n",
      "[31 30 31]\n"
     ]
    }
   ],
   "source": [
    "print(a.sum())  # all elements sum of A\n",
    "print(b.sum(axis=0))  # column wise sum of B\n",
    "print(c.sum(axis=1))  # row wise sum of C\n"
   ]
  },
  {
   "cell_type": "code",
   "execution_count": 55,
   "metadata": {},
   "outputs": [
    {
     "name": "stdout",
     "output_type": "stream",
     "text": [
      "[[ 18  24  31]\n",
      " [ 54  69  88]\n",
      " [ 91 116 148]]\n"
     ]
    }
   ],
   "source": [
    "d = a @ b\n",
    "print(d)"
   ]
  },
  {
   "cell_type": "code",
   "execution_count": 56,
   "metadata": {},
   "outputs": [
    {
     "name": "stdout",
     "output_type": "stream",
     "text": [
      "[[ 8 10 13]\n",
      " [ 8 10 12]\n",
      " [ 8 10 13]]\n"
     ]
    }
   ],
   "source": [
    "c.sort(kind='stable')\n",
    "print(c)"
   ]
  },
  {
   "cell_type": "code",
   "execution_count": 57,
   "metadata": {},
   "outputs": [
    {
     "data": {
      "text/plain": [
       "array([[-6,  0,  6],\n",
       "       [-6,  0,  6],\n",
       "       [-7,  0,  7]])"
      ]
     },
     "execution_count": 57,
     "metadata": {},
     "output_type": "execute_result"
    }
   ],
   "source": [
    "e.T"
   ]
  }
 ],
 "metadata": {
  "kernelspec": {
   "display_name": ".venv",
   "language": "python",
   "name": "python3"
  },
  "language_info": {
   "codemirror_mode": {
    "name": "ipython",
    "version": 3
   },
   "file_extension": ".py",
   "mimetype": "text/x-python",
   "name": "python",
   "nbconvert_exporter": "python",
   "pygments_lexer": "ipython3",
   "version": "3.11.4"
  }
 },
 "nbformat": 4,
 "nbformat_minor": 2
}
