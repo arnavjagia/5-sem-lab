{
 "cells": [
  {
   "cell_type": "code",
   "execution_count": 158,
   "metadata": {},
   "outputs": [],
   "source": [
    "import pandas as pd\n",
    "import numpy as np\n",
    "\n",
    "from statistics import mode\n",
    "from collections import defaultdict"
   ]
  },
  {
   "cell_type": "markdown",
   "metadata": {},
   "source": [
    "### Implementation notes\n",
    "\n",
    "* Nodes are stored as dictionaries.\n",
    "\n",
    "* `node[\"column_name\"]` gives name of splitting column.\n",
    "\n",
    "* `node[column_value]` gives the child node (also a dictionary). \n",
    "\n",
    "The functions in this section are common to all decision trees...\n",
    "\n",
    "Implementation of `best_split_col()` is all that differs in the 3 methods."
   ]
  },
  {
   "cell_type": "code",
   "execution_count": 159,
   "metadata": {},
   "outputs": [],
   "source": [
    "def build_decision_tree(df: pd.DataFrame) -> dict:\n",
    "    # if all values in the target column are the same...\n",
    "    if len(np.unique(df.iloc[:, -1])) == 1:\n",
    "        return df.iloc[0, -1]\n",
    "    \n",
    "    # if there aren't any columns left (besides the target column)...\n",
    "    if len(df.columns) == 1:\n",
    "        return mode(df.iloc[:, -1])\n",
    "\n",
    "    split_col = best_split_col(df)\n",
    "\n",
    "    tree = defaultdict(None)\n",
    "    tree[\"column_name\"] = split_col\n",
    "\n",
    "    for value in np.unique(df[split_col]):\n",
    "        subset = df[df[split_col] == value].drop(columns=[split_col])\n",
    "        tree[value] = build_decision_tree(subset)\n",
    "        \n",
    "    return tree\n",
    "\n",
    "\n",
    "def predict(root: dict, D: dict) -> str:\n",
    "    node = root\n",
    "    while isinstance(node, dict):\n",
    "        col = node[\"column_name\"]\n",
    "        node = node[D[col]]\n",
    "    return node"
   ]
  },
  {
   "cell_type": "markdown",
   "metadata": {},
   "source": [
    "### C4.5\n",
    "\n",
    "Works by using entropy along with split_info."
   ]
  },
  {
   "cell_type": "code",
   "execution_count": 160,
   "metadata": {},
   "outputs": [],
   "source": [
    "def best_split_col(df: pd.DataFrame) -> float:\n",
    "    # assuming df has at least two cols, the last col is the target col\n",
    "    best_col, best_ratio = None, 0\n",
    "\n",
    "    for col in df.columns[:-1]:\n",
    "        p = information_gain(df, col)\n",
    "        q = split_info(df, col)\n",
    "\n",
    "        if (p / q) > best_ratio:\n",
    "            best_ratio, best_col = (p / q), col\n",
    "    \n",
    "    return best_col\n",
    "\n",
    "def entropy(df: pd.DataFrame) -> float:\n",
    "    return -sum(\n",
    "        (c / len(df)) * np.log2(c / len(df)) \n",
    "        for c in np.unique(df.iloc[:, -1], return_counts=True)[1]\n",
    "    )\n",
    "\n",
    "def information_gain(df: pd.DataFrame, col: str) -> float:\n",
    "    return entropy(df) - sum(\n",
    "        (freq / len(df)) * entropy(df[df[col] == x]) \n",
    "        for x, freq in zip(*np.unique(df[col], return_counts=True))\n",
    "    )\n",
    "\n",
    "def split_info(df: pd.DataFrame, col: str) -> float:\n",
    "    return -sum(\n",
    "        (freq / len(df)) * np.log2(freq / len(df))\n",
    "        for freq in np.unique(df[col], return_counts=1)[1]\n",
    "    )"
   ]
  },
  {
   "cell_type": "code",
   "execution_count": 161,
   "metadata": {},
   "outputs": [],
   "source": [
    "path = \"data/data09_1.csv\"\n",
    "df = pd.read_csv(path)\n",
    "tree = build_decision_tree(df)"
   ]
  },
  {
   "cell_type": "code",
   "execution_count": 162,
   "metadata": {},
   "outputs": [
    {
     "data": {
      "text/plain": [
       "'Yes'"
      ]
     },
     "execution_count": 162,
     "metadata": {},
     "output_type": "execute_result"
    }
   ],
   "source": [
    "test = {\"Outlook\": \"Sunny\", \"Temp\": \"Mild\", \"Humidity\": \"Normal\", \"Wind\": \"Weak\"}\n",
    "predict(tree, test)"
   ]
  },
  {
   "cell_type": "code",
   "execution_count": 163,
   "metadata": {},
   "outputs": [
    {
     "data": {
      "text/plain": [
       "defaultdict(None,\n",
       "            {'column_name': 'Outlook',\n",
       "             'Overcast': 'Yes',\n",
       "             'Rain': defaultdict(None,\n",
       "                         {'column_name': 'Wind',\n",
       "                          'Strong': 'No',\n",
       "                          'Weak': 'Yes'}),\n",
       "             'Sunny': defaultdict(None,\n",
       "                         {'column_name': 'Humidity',\n",
       "                          'High': 'No',\n",
       "                          'Normal': 'Yes'})})"
      ]
     },
     "execution_count": 163,
     "metadata": {},
     "output_type": "execute_result"
    }
   ],
   "source": [
    "tree"
   ]
  },
  {
   "cell_type": "markdown",
   "metadata": {},
   "source": [
    "### CART\n",
    "\n",
    "Relies on Gini impurity."
   ]
  },
  {
   "cell_type": "code",
   "execution_count": 171,
   "metadata": {},
   "outputs": [],
   "source": [
    "def best_split_col(df: pd.DataFrame) -> float:\n",
    "    best_col, best_delta = None, 0\n",
    "\n",
    "    for col in df.columns[:-1]:\n",
    "        delta = gini_reduction(df, col)\n",
    "\n",
    "        if delta > best_delta:\n",
    "            best_delta, best_col = col, delta\n",
    "    \n",
    "    return best_col\n",
    "\n",
    "def gini_impurity(df: pd.DataFrame) -> float:\n",
    "    return 1 - sum(df.iloc[:, -1].value_counts(normalize=True) ** 2)\n",
    "\n",
    "def gini_reduction(df: pd.DataFrame, col: str) -> float:\n",
    "    return gini_impurity(df) - sum(\n",
    "        (freq / len(df)) * gini_impurity(df[df[col] == x])\n",
    "        for x, freq in zip(*np.unique(df[col], return_counts=True))\n",
    "    )\n"
   ]
  },
  {
   "cell_type": "code",
   "execution_count": 172,
   "metadata": {},
   "outputs": [
    {
     "data": {
      "text/plain": [
       "'Yes'"
      ]
     },
     "execution_count": 172,
     "metadata": {},
     "output_type": "execute_result"
    }
   ],
   "source": [
    "predict(tree, test)"
   ]
  },
  {
   "cell_type": "code",
   "execution_count": 173,
   "metadata": {},
   "outputs": [
    {
     "data": {
      "text/plain": [
       "defaultdict(None,\n",
       "            {'column_name': 'Outlook',\n",
       "             'Overcast': 'Yes',\n",
       "             'Rain': defaultdict(None,\n",
       "                         {'column_name': 'Wind',\n",
       "                          'Strong': 'No',\n",
       "                          'Weak': 'Yes'}),\n",
       "             'Sunny': defaultdict(None,\n",
       "                         {'column_name': 'Humidity',\n",
       "                          'High': 'No',\n",
       "                          'Normal': 'Yes'})})"
      ]
     },
     "execution_count": 173,
     "metadata": {},
     "output_type": "execute_result"
    }
   ],
   "source": [
    "tree"
   ]
  }
 ],
 "metadata": {
  "kernelspec": {
   "display_name": ".venv",
   "language": "python",
   "name": "python3"
  },
  "language_info": {
   "codemirror_mode": {
    "name": "ipython",
    "version": 3
   },
   "file_extension": ".py",
   "mimetype": "text/x-python",
   "name": "python",
   "nbconvert_exporter": "python",
   "pygments_lexer": "ipython3",
   "version": "3.11.4"
  }
 },
 "nbformat": 4,
 "nbformat_minor": 2
}
