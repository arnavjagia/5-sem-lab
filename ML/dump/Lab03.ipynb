{
 "cells": [
  {
   "cell_type": "code",
   "execution_count": 3,
   "metadata": {},
   "outputs": [],
   "source": [
    "import pandas as pd\n",
    "import numpy as np\n",
    "import matplotlib.pyplot as plt\n",
    "from sklearn.model_selection import train_test_split"
   ]
  },
  {
   "cell_type": "markdown",
   "metadata": {},
   "source": [
    "### Question 1"
   ]
  },
  {
   "cell_type": "code",
   "execution_count": 9,
   "metadata": {},
   "outputs": [],
   "source": [
    "path = \"data/hepatitis.csv\"\n",
    "\n",
    "df = pd.read_csv(path) # read the CSV file\n",
    "\n",
    "df = df.dropna(axis=1, thresh=len(df)*0.1) # drop columns\n",
    "df = df.dropna(axis=1, thresh=len(df)*0.1) # drop rows\n",
    "\n",
    "df['sex'] = df['sex'].apply(lambda x: 1 if x == \"male\" else 0) # dummy variables, binning\n",
    "df['class'] = df['class'].apply(lambda x: 1 if x == \"live\" else 0) \n",
    "\n",
    "df = df.fillna(df.mean()) # fill missing values\n",
    "\n",
    "X, y = df.iloc[:, :-1], df.iloc[:, -1]\n",
    "X_train, X_test, y_train, y_test = train_test_split(X, y, test_size=.2) # test_size is a keyword argument"
   ]
  },
  {
   "cell_type": "markdown",
   "metadata": {},
   "source": [
    "### Question 2"
   ]
  },
  {
   "cell_type": "code",
   "execution_count": 14,
   "metadata": {},
   "outputs": [],
   "source": [
    "path = \"data/study.csv\"\n",
    "df = pd.read_csv(path)\n",
    "\n",
    "X, y = df.iloc[:, 0].to_numpy(), df.iloc[:, -1].to_numpy() # converts to numpy arrays\n",
    "# X is a matrix, y is a vector -- this is what I want"
   ]
  },
  {
   "cell_type": "markdown",
   "metadata": {},
   "source": [
    "Simple linear regression (Pedhazur's formula)"
   ]
  },
  {
   "cell_type": "code",
   "execution_count": 23,
   "metadata": {},
   "outputs": [
    {
     "name": "stdout",
     "output_type": "stream",
     "text": [
      "(10,) (10,) 17.467900128958306 36.472544425498974\n",
      "1.6961931743276253 1.990871884681724\n",
      "1.6961931743276253 1.990871884681724\n",
      "0.32865581663227156\n"
     ]
    }
   ],
   "source": [
    "df = pd.read_csv(\"asdf.csv\")\n",
    "X = df['hours'].to_numpy()\n",
    "y = df['score'].to_numpy()\n",
    "print(X.shape, y.shape, X.mean(), y.mean())\n",
    "\n",
    "dx = X - X.mean()\n",
    "dy = y - y.mean()\n",
    "\n",
    "b1 = (dx @ dy) / (dx @ dx)\n",
    "b0 = y.mean() - b1 * X.mean()\n",
    "b1 = np.sum(dx * dy) / np.sum(dx * dx)\n",
    "b0 = y.mean() - b1 * X.mean()\n",
    "\n",
    "print(b0, b1)\n",
    "predictions = b0 + b1 * X\n",
    "\n",
    "rmse = np.sqrt(np.mean((y - predictions) ** 2))\n",
    "print(rmse)"
   ]
  },
  {
   "cell_type": "markdown",
   "metadata": {},
   "source": [
    "Moore-Penrose pseudoinverse"
   ]
  },
  {
   "cell_type": "code",
   "execution_count": 12,
   "metadata": {},
   "outputs": [
    {
     "name": "stdout",
     "output_type": "stream",
     "text": [
      "[0.07101114 2.063072  ]\n"
     ]
    }
   ],
   "source": [
    "Xb = np.c_[np.ones_like(y), X] # add ones column\n",
    "theta = np.linalg.inv(Xb.T @ Xb) @ Xb.T @ y\n",
    "\n",
    "print(theta)"
   ]
  },
  {
   "cell_type": "code",
   "execution_count": 16,
   "metadata": {},
   "outputs": [
    {
     "data": {
      "text/plain": [
       "<matplotlib.legend.Legend at 0x11ab98690>"
      ]
     },
     "execution_count": 16,
     "metadata": {},
     "output_type": "execute_result"
    },
    {
     "data": {
      "image/png": "[encoded data removed]",
      "text/plain": [
       "<Figure size 640x480 with 1 Axes>"
      ]
     },
     "metadata": {},
     "output_type": "display_data"
    }
   ],
   "source": [
    "predictions = Xb @ theta\n",
    "\n",
    "plt.scatter(X, y, color='red', label='Actual data')\n",
    "plt.plot(X, predictions, 'b', label='Predictions')\n",
    "plt.legend()"
   ]
  }
 ],
 "metadata": {
  "kernelspec": {
   "display_name": ".venv",
   "language": "python",
   "name": "python3"
  },
  "language_info": {
   "codemirror_mode": {
    "name": "ipython",
    "version": 3
   },
   "file_extension": ".py",
   "mimetype": "text/x-python",
   "name": "python",
   "nbconvert_exporter": "python",
   "pygments_lexer": "ipython3",
   "version": "3.11.4"
  }
 },
 "nbformat": 4,
 "nbformat_minor": 2
}
