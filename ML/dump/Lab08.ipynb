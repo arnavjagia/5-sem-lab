{
 "cells": [
  {
   "cell_type": "code",
   "execution_count": 228,
   "metadata": {},
   "outputs": [],
   "source": [
    "import numpy as np\n",
    "import pandas as pd\n",
    "import matplotlib.pyplot as plt"
   ]
  },
  {
   "cell_type": "markdown",
   "metadata": {},
   "source": [
    "### 1 - A"
   ]
  },
  {
   "cell_type": "code",
   "execution_count": 29,
   "metadata": {},
   "outputs": [],
   "source": [
    "from statistics import mode\n",
    "\n",
    "class KNN:\n",
    "    def __init__(self, k=3):\n",
    "        self.k = k\n",
    "    \n",
    "    def fit(self, X, y):\n",
    "        self.points = X\n",
    "        self.labels = y\n",
    "\n",
    "    def _minkowski(self, vector, p=3):\n",
    "        return np.sum(np.abs(self.points - vector) ** p, axis=1) ** (1 / p)\n",
    "    \n",
    "    def _euclidean(self, vector):\n",
    "        return self._minkowski(vector, p=2)\n",
    "\n",
    "    def _manhattan(self, vector):\n",
    "        return np.sum(np.abs(self.points - vector), axis=1)\n",
    "\n",
    "    def predict(self, vector, metric=\"euclidean\"):\n",
    "        if metric == \"minkowski\": \n",
    "            f = self._minkowski\n",
    "        elif metric == \"manhattan\": \n",
    "            f = self._manhattan\n",
    "        else:\n",
    "            f = self._euclidean\n",
    "        \n",
    "        distances = f(vector)\n",
    "        neighbors = distances.argsort()[:self.k]\n",
    "        return mode(self.labels[neighbors])"
   ]
  },
  {
   "cell_type": "code",
   "execution_count": 30,
   "metadata": {},
   "outputs": [],
   "source": [
    "path = \"data/data08_1.csv\"\n",
    "df = pd.read_csv(path)\n",
    "\n",
    "X = df[[\"weight\", \"sweetness\"]].to_numpy()\n",
    "y = df[\"label\"].to_numpy()"
   ]
  },
  {
   "cell_type": "code",
   "execution_count": 31,
   "metadata": {},
   "outputs": [
    {
     "name": "stdout",
     "output_type": "stream",
     "text": [
      "Euclidean\n",
      " [15.07481343 35.00357125 15.07481343  5.02493781  5.02493781 25.12468905]\n",
      "Minkowski\n",
      " [15.00499833 35.00003401 15.00499833  5.00166611  5.00166611 25.00833056]\n",
      "Manhattan\n",
      " [16.5 35.5 16.5  5.5  5.5 27.5]\n"
     ]
    },
    {
     "data": {
      "text/plain": [
       "'apple'"
      ]
     },
     "execution_count": 31,
     "metadata": {},
     "output_type": "execute_result"
    }
   ],
   "source": [
    "knn = KNN()\n",
    "knn.fit(X, y)\n",
    "\n",
    "test_vector = [165, 5.5]\n",
    "print(\"Euclidean\\n\", knn._euclidean(test_vector))\n",
    "print(\"Minkowski\\n\", knn._minkowski(test_vector))\n",
    "print(\"Manhattan\\n\", knn._manhattan(test_vector))\n",
    "\n",
    "knn.predict(test_vector, metric=\"manhattan\")"
   ]
  },
  {
   "cell_type": "code",
   "execution_count": 232,
   "metadata": {},
   "outputs": [
    {
     "data": {
      "text/plain": [
       "<matplotlib.collections.PathCollection at 0x16439e550>"
      ]
     },
     "execution_count": 232,
     "metadata": {},
     "output_type": "execute_result"
    },
    {
     "data": {
      "image/png": "[encoded data removed]",
      "text/plain": [
       "<Figure size 640x480 with 1 Axes>"
      ]
     },
     "metadata": {},
     "output_type": "display_data"
    }
   ],
   "source": [
    "plt.figure()\n",
    "\n",
    "for weight, sweetness, label in df.values:\n",
    "    color = 'red' if label == 'apple' else 'orange'\n",
    "    plt.scatter(weight, sweetness, color=color)\n",
    "\n",
    "plt.scatter(*test_vector, color=\"blue\", marker=\"x\")"
   ]
  },
  {
   "cell_type": "markdown",
   "metadata": {},
   "source": [
    "### 1 - B"
   ]
  },
  {
   "cell_type": "code",
   "execution_count": 233,
   "metadata": {},
   "outputs": [],
   "source": [
    "from sklearn.neighbors import KNeighborsClassifier\n",
    "from sklearn.pipeline import Pipeline\n",
    "from sklearn.preprocessing import StandardScaler\n",
    "\n",
    "pipeline = Pipeline(steps=[\n",
    "        (\"scaler\", StandardScaler()), \n",
    "        (\"knn\", KNeighborsClassifier(n_neighbors=3))\n",
    "])\n",
    "\n",
    "knn = pipeline.fit(X, y)"
   ]
  },
  {
   "cell_type": "code",
   "execution_count": 234,
   "metadata": {},
   "outputs": [
    {
     "data": {
      "text/plain": [
       "array(['apple'], dtype=object)"
      ]
     },
     "execution_count": 234,
     "metadata": {},
     "output_type": "execute_result"
    }
   ],
   "source": [
    "test_vector = np.array([[165, 5.5]])\n",
    "pipeline.predict(test_vector)"
   ]
  },
  {
   "cell_type": "code",
   "execution_count": 235,
   "metadata": {},
   "outputs": [
    {
     "data": {
      "text/plain": [
       "<matplotlib.collections.QuadMesh at 0x16427b0d0>"
      ]
     },
     "execution_count": 235,
     "metadata": {},
     "output_type": "execute_result"
    },
    {
     "data": {
      "image/png": "[encoded data removed]",
      "text/plain": [
       "<Figure size 640x480 with 1 Axes>"
      ]
     },
     "metadata": {},
     "output_type": "display_data"
    }
   ],
   "source": [
    "n = 1000\n",
    "\n",
    "x0, x1 = np.meshgrid(\n",
    "    np.linspace(X[:, 0].min(), X[:, 0].max(), n),\n",
    "    np.linspace(X[:, 1].min(), X[:, 1].max(), n)\n",
    ")\n",
    "\n",
    "Z = pipeline.predict(np.c_[x0.ravel(), x1.ravel()])\n",
    "Z = Z.reshape(x0.shape)\n",
    "Z = np.vectorize(lambda x: 1 if x == \"apple\" else 0)(Z)\n",
    "\n",
    "plt.figure()\n",
    "plt.pcolormesh(x0, x1, Z)"
   ]
  },
  {
   "cell_type": "markdown",
   "metadata": {},
   "source": [
    "### 2 - A"
   ]
  },
  {
   "cell_type": "code",
   "execution_count": 236,
   "metadata": {},
   "outputs": [],
   "source": [
    "from collections import defaultdict\n",
    "\n",
    "def entropy(series):\n",
    "    \"\"\"Returs the entropy of a single DataFrame column (Series object).\n",
    "\n",
    "    Example usage:\n",
    "    >>> entropy(df['age'])\n",
    "    \"\"\"\n",
    "    _, counts = np.unique(series, return_counts=True)\n",
    "    n = sum(counts)\n",
    "\n",
    "    result = 0\n",
    "    for count in counts:\n",
    "        p = count / n\n",
    "        result -= p * np.log2(p)\n",
    "    \n",
    "    return result\n",
    "\n",
    "\n",
    "def information_gain(df, split_col):\n",
    "    \"\"\"Returns the information gain accrued from splitting along a column.\n",
    "    \n",
    "    Example usage:\n",
    "    >>> information_gain(df, 'age')\n",
    "    \"\"\"\n",
    "    keys, counts = np.unique(df[split_col], return_counts=True)\n",
    "    n = sum(counts)\n",
    "\n",
    "    new_entropy = 0\n",
    "    for i, x in enumerate(keys):\n",
    "        new_entropy += (counts[i] / n) * entropy(df[df[split_col] == x].iloc[:, -1])\n",
    "    \n",
    "    return entropy(df.iloc[:, -1]) - new_entropy\n",
    "\n",
    "\n",
    "def build_decision_tree(df):\n",
    "    if len(np.unique(df.iloc[:, -1])) == 1:\n",
    "        return df.iloc[0, -1]\n",
    "    \n",
    "    if len(df.columns) == 1:\n",
    "        return df.iloc[:, -1].mode()[0]\n",
    "    \n",
    "    best_col, best_gain = None, 0\n",
    "\n",
    "    for col in df.columns[:-1]:\n",
    "        gain = information_gain(df, col)\n",
    "\n",
    "        if gain >= best_gain:\n",
    "            best_col, best_gain = col, gain\n",
    "    \n",
    "    tree = defaultdict(None)\n",
    "    for value in np.unique(df[best_col]):\n",
    "        subset = df[df[best_col] == value].drop(best_col, axis=1)\n",
    "        tree[value] = build_decision_tree(subset)\n",
    "        tree[\"column_name\"] = best_col\n",
    "    \n",
    "    return tree\n",
    "\n",
    "\n",
    "def predict(root: dict, D: dict):\n",
    "    node = root\n",
    "    while isinstance(node, dict):\n",
    "        col = node[\"column_name\"]\n",
    "        node = node[D[col]]\n",
    "    return node"
   ]
  },
  {
   "cell_type": "code",
   "execution_count": 237,
   "metadata": {},
   "outputs": [
    {
     "data": {
      "text/plain": [
       "'sick'"
      ]
     },
     "execution_count": 237,
     "metadata": {},
     "output_type": "execute_result"
    }
   ],
   "source": [
    "path = \"data/data08_2.csv\"\n",
    "df = pd.read_csv(path)\n",
    "tree = build_decision_tree(df)\n",
    "\n",
    "D = {'age': 50, 'bp': 'low', 'cholesterol': 'high'}\n",
    "predict(tree, D)"
   ]
  },
  {
   "cell_type": "markdown",
   "metadata": {},
   "source": [
    "### 2 - B"
   ]
  },
  {
   "cell_type": "code",
   "execution_count": 238,
   "metadata": {},
   "outputs": [],
   "source": [
    "df['bp'] = df['bp'].map({'high': 1, 'low': 0})\n",
    "df['cholesterol'] = df['cholesterol'].map({'high': 1, 'normal': 0})\n",
    "df['diagnosis'] = df['diagnosis'].map({'sick': 1, 'healthy': 0})\n",
    "X, y = df.iloc[:, :-1], df.iloc[:, -1]"
   ]
  },
  {
   "cell_type": "code",
   "execution_count": 245,
   "metadata": {},
   "outputs": [
    {
     "data": {
      "text/plain": [
       "array([1])"
      ]
     },
     "execution_count": 245,
     "metadata": {},
     "output_type": "execute_result"
    }
   ],
   "source": [
    "from sklearn.tree import DecisionTreeClassifier\n",
    "\n",
    "clf = DecisionTreeClassifier()\n",
    "clf.fit(X, y)\n",
    "\n",
    "X_test = pd.DataFrame([[50, 0, 1]], columns=X.columns) # age, bp, cholesterol\n",
    "clf.predict(X_test)"
   ]
  }
 ],
 "metadata": {
  "kernelspec": {
   "display_name": ".venv",
   "language": "python",
   "name": "python3"
  },
  "language_info": {
   "codemirror_mode": {
    "name": "ipython",
    "version": 3
   },
   "file_extension": ".py",
   "mimetype": "text/x-python",
   "name": "python",
   "nbconvert_exporter": "python",
   "pygments_lexer": "ipython3",
   "version": "3.11.4"
  }
 },
 "nbformat": 4,
 "nbformat_minor": 2
}
