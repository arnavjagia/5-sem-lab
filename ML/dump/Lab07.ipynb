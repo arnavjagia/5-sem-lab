{
 "cells": [
  {
   "cell_type": "code",
   "execution_count": 94,
   "metadata": {},
   "outputs": [],
   "source": [
    "import pandas as pd\n",
    "from collections import defaultdict"
   ]
  },
  {
   "cell_type": "markdown",
   "metadata": {},
   "source": [
    "### Question 1"
   ]
  },
  {
   "cell_type": "code",
   "execution_count": 95,
   "metadata": {},
   "outputs": [
    {
     "data": {
      "text/plain": [
       "0.6923076923076923"
      ]
     },
     "execution_count": 95,
     "metadata": {},
     "output_type": "execute_result"
    }
   ],
   "source": [
    "hostel = 0.6\n",
    "day = 1 - hostel\n",
    "\n",
    "hostel_A = 0.3\n",
    "day_A = 0.2\n",
    "\n",
    "(hostel * hostel_A) / (hostel * hostel_A + day * day_A)"
   ]
  },
  {
   "cell_type": "code",
   "execution_count": 96,
   "metadata": {},
   "outputs": [
    {
     "data": {
      "text/plain": [
       "0.3333333333333333"
      ]
     },
     "execution_count": 96,
     "metadata": {},
     "output_type": "execute_result"
    }
   ],
   "source": [
    "a = 0.01\n",
    "b = 0.99\n",
    "c = 0.02\n",
    "\n",
    "(a * b) / (a * b + c * (1 - a))"
   ]
  },
  {
   "cell_type": "markdown",
   "metadata": {},
   "source": [
    "### Question 2"
   ]
  },
  {
   "cell_type": "code",
   "execution_count": 97,
   "metadata": {},
   "outputs": [],
   "source": [
    "path = \"data/data07_1.csv\"\n",
    "df = pd.read_csv(path) # assuming last column is the target variable\n",
    "n = len(df)"
   ]
  },
  {
   "cell_type": "markdown",
   "metadata": {},
   "source": [
    "`counter[(i, x, y)]` := number of times feature column `i` was `x` when the target variable was `y`. Default value is 0.001.\n",
    "\n",
    "`counter[(i, x)]` := number of times feature column `i` was `x`.\n",
    "\n",
    "`counter[y]` := number of times target column was `y`."
   ]
  },
  {
   "cell_type": "code",
   "execution_count": 98,
   "metadata": {},
   "outputs": [],
   "source": [
    "counter = defaultdict(lambda: 0.001) # default value 0.001\n",
    "S = defaultdict(set)\n",
    "\n",
    "for row in df:\n",
    "    y = row[-1]\n",
    "    counter[y] += 1\n",
    "    \n",
    "    for i in range(len(row) - 1):\n",
    "        x = row[i]\n",
    "        counter[(i, x, y)] += 1"
   ]
  },
  {
   "cell_type": "code",
   "execution_count": 99,
   "metadata": {},
   "outputs": [],
   "source": [
    "def predict(X):\n",
    "    result = None\n",
    "    best_odds = 0\n",
    "\n",
    "    for y in (\"yes\", \"no\"):\n",
    "        odds = counter[y] / n # P(y)\n",
    "\n",
    "        for i, x in enumerate(X):\n",
    "            odds *= counter[(i, x, y)] / (counter[y]) # P(x | y)\n",
    "\n",
    "        if odds > best_odds:\n",
    "            best_odds = odds\n",
    "            result = y\n",
    "    \n",
    "    return result, best_odds"
   ]
  },
  {
   "cell_type": "code",
   "execution_count": 100,
   "metadata": {},
   "outputs": [
    {
     "data": {
      "text/plain": [
       "('yes', 7.142857142857143e-05)"
      ]
     },
     "execution_count": 100,
     "metadata": {},
     "output_type": "execute_result"
    }
   ],
   "source": [
    "X = [\"<=30\", \"low\", \"no\", \"fair\"] # age, income, student, credit_rating\n",
    "predict(X)"
   ]
  },
  {
   "cell_type": "code",
   "execution_count": 101,
   "metadata": {},
   "outputs": [
    {
     "data": {
      "text/plain": [
       "('yes', 7.142857142857143e-05)"
      ]
     },
     "execution_count": 101,
     "metadata": {},
     "output_type": "execute_result"
    }
   ],
   "source": [
    "X = [\"31...40\", \"medium\", \"yes\", \"excellent\"]\n",
    "predict(X)"
   ]
  },
  {
   "cell_type": "markdown",
   "metadata": {},
   "source": [
    "### Question 3"
   ]
  },
  {
   "cell_type": "code",
   "execution_count": 104,
   "metadata": {},
   "outputs": [],
   "source": [
    "path = \"data/data07_2.csv\"\n",
    "df = pd.read_csv(path).to_numpy() # assuming last column is the target variable\n",
    "n = len(df)"
   ]
  },
  {
   "cell_type": "markdown",
   "metadata": {},
   "source": [
    "`counter[(word, tag)]` := occurances of word with tag."
   ]
  },
  {
   "cell_type": "code",
   "execution_count": 106,
   "metadata": {},
   "outputs": [],
   "source": [
    "counter = defaultdict(int)\n",
    "V = set()\n",
    "\n",
    "for text, tag in df:\n",
    "    for word in text.lower().split():\n",
    "        counter[(word, tag)] += 1\n",
    "        counter[tag] += 1\n",
    "        V.add(word)"
   ]
  },
  {
   "cell_type": "code",
   "execution_count": 107,
   "metadata": {},
   "outputs": [],
   "source": [
    "def classify(text):\n",
    "    result = None\n",
    "    best_odds = 0\n",
    "\n",
    "    for outcome in (\"sports\", \"not sports\"):\n",
    "        odds = counter[outcome] / n \n",
    "\n",
    "        for word in text.lower().split():\n",
    "            odds *= (counter[(word, outcome)] + 1) / (counter[outcome] + len(V))\n",
    "        \n",
    "        if odds > best_odds:\n",
    "            best_odds = odds\n",
    "            result = outcome\n",
    "    \n",
    "    return result"
   ]
  },
  {
   "cell_type": "code",
   "execution_count": 108,
   "metadata": {},
   "outputs": [
    {
     "data": {
      "text/plain": [
       "'sports'"
      ]
     },
     "execution_count": 108,
     "metadata": {},
     "output_type": "execute_result"
    }
   ],
   "source": [
    "classify(\"A very close game\")"
   ]
  }
 ],
 "metadata": {
  "kernelspec": {
   "display_name": ".venv",
   "language": "python",
   "name": "python3"
  },
  "language_info": {
   "codemirror_mode": {
    "name": "ipython",
    "version": 3
   },
   "file_extension": ".py",
   "mimetype": "text/x-python",
   "name": "python",
   "nbconvert_exporter": "python",
   "pygments_lexer": "ipython3",
   "version": "3.11.9"
  }
 },
 "nbformat": 4,
 "nbformat_minor": 2
}
