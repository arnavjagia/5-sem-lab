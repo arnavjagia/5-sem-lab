{
 "cells": [
  {
   "cell_type": "code",
   "execution_count": 1,
   "id": "49259f24",
   "metadata": {},
   "outputs": [],
   "source": [
    "import pandas as pd\n",
    "import numpy as np\n",
    "import matplotlib.pyplot as plt"
   ]
  },
  {
   "cell_type": "markdown",
   "id": "ba47fd26",
   "metadata": {},
   "source": [
    "1.\n",
    "Apply simple linear regression with gradient descent method for x= {1, 2, 4, 3, 5} and y= {1, 3, 3, 2, 5} and plot Error (y axis) vs.  Iteration (x axis) for 4 epochs (20 iterations). Manually work out the values for the first epoch and verify the results in your notebook."
   ]
  },
  {
   "cell_type": "code",
   "execution_count": 2,
   "id": "4b44b1d3",
   "metadata": {},
   "outputs": [],
   "source": [
    "data=\"\"\"\n",
    "x,y\n",
    "1,1\n",
    "2,3\n",
    "3,3\n",
    "4,2\n",
    "5,5\n",
    "\"\"\"\n",
    "\n",
    "with open('data.csv', 'w') as f:\n",
    "    f.write(data.strip())"
   ]
  },
  {
   "cell_type": "code",
   "execution_count": 3,
   "id": "d8b2f656",
   "metadata": {},
   "outputs": [
    {
     "data": {
      "text/plain": [
       "(np.float64(0.0011177062112778249), np.float64(0.003911423560236436))"
      ]
     },
     "execution_count": 3,
     "metadata": {},
     "output_type": "execute_result"
    }
   ],
   "source": [
    "def sgd(df, learning_rate=0.00001, epochs=4):\n",
    "    X = df['x']\n",
    "    y = df['y']\n",
    "    \n",
    "    B0 = 0.0\n",
    "    B1 = 0.0\n",
    "    errorlist = []\n",
    "    n = len(X)\n",
    "    \n",
    "    for epoch in range(epochs): \n",
    "        for i in range(n):\n",
    "            xi = X[i]\n",
    "            yi = y[i]\n",
    "            \n",
    "            # Make prediction\n",
    "            pi = B0 + (B1 * xi)\n",
    "            \n",
    "            # Calculate error\n",
    "            error = pi - yi\n",
    "            errorlist.append(error)\n",
    "\n",
    "            # Update coefficients\n",
    "            B0 = B0 - 2 * learning_rate * error\n",
    "            B1 = B1 - 2 * learning_rate * error * xi\n",
    "            \n",
    "#     print(f'Final B0: {B0}')\n",
    "#     print(f'Final B1: {B1}')\n",
    "    return B0, B1, errorlist\n",
    "\n",
    "df = pd.read_csv('data.csv')\n",
    "B0, B1, errorlist = sgd(df)\n",
    "B0, B1"
   ]
  },
  {
   "cell_type": "markdown",
   "id": "b46d7a42",
   "metadata": {},
   "source": [
    "3. Create the following data set for Experience and Salary in CSV. Applying SLR, explore the relationship between  \n",
    "salary and experience with exerience in x-axis and salary in y axis.  \n",
    "a. Check for various values of beta (slope) = 0.1, 1.5, and 0.8 with a fixed value of intercept i.e b=1.1. Plot the  \n",
    "graph  \n",
    "between beta and mean squared error(MSE) for each case.  \n",
    "b. Try with beta between 0 to 1.5 with an increment of 0.01 keeping b (intercept) as constant and Plot the graph between  \n",
    "beta and mean squared error(MSE).  \n",
    "c. Try with different values of intercept for slope beta between 0 to 1.5 with an increment of 0.01. Plot the graph between  \n",
    "beta and mean squared error(MSE).  \n",
    "d. Use the scikit learn and compare the results of MSE.  "
   ]
  },
  {
   "cell_type": "code",
   "execution_count": 4,
   "id": "5842a508",
   "metadata": {},
   "outputs": [],
   "source": [
    "data=\"\"\"\n",
    "salary,experience\n",
    "1.7,1.2\n",
    "2.4,1.5\n",
    "2.3,1.9\n",
    "3.1,2.2\n",
    "3.7,2.4\n",
    "4.2,2.5\n",
    "4.4,2.8\n",
    "6.1,3.1\n",
    "5.4,3.3\n",
    "5.7,3.7\n",
    "6.4,4.2\n",
    "6.2,4.4\n",
    "\"\"\"\n",
    "\n",
    "with open('data.csv', 'w') as f:\n",
    "    f.write(data.strip())"
   ]
  },
  {
   "cell_type": "code",
   "execution_count": 8,
   "id": "f5f49878",
   "metadata": {},
   "outputs": [
    {
     "name": "stdout",
     "output_type": "stream",
     "text": [
      "Slope: 1.5670982931135966\n",
      "Intercept: -0.03563861094761833\n"
     ]
    },
    {
     "data": {
      "image/png": "[encoded data removed]",
      "text/plain": [
       "<Figure size 640x480 with 1 Axes>"
      ]
     },
     "metadata": {},
     "output_type": "display_data"
    }
   ],
   "source": [
    "def slr(X, y):\n",
    "    # Calculate the means of X and y\n",
    "    X_mean = np.mean(X)\n",
    "    y_mean = np.mean(y)\n",
    "    \n",
    "    # Calculate the coefficients (slope and intercept)\n",
    "    num = np.sum((X - X_mean) * (y - y_mean))\n",
    "    denom = np.sum((X - X_mean) ** 2)\n",
    "    B1 = num / denom\n",
    "    B0 = y_mean - (B1 * X_mean)\n",
    "    \n",
    "    # Print the coefficients\n",
    "    print(f\"Slope: {B1}\")\n",
    "    print(f\"Intercept: {B0}\")\n",
    "    \n",
    "    # Make predictions\n",
    "    y_pred = B0 + B1 * X\n",
    "    \n",
    "    # Plot the results\n",
    "    fig, ax = plt.subplots()\n",
    "    ax.plot(X, y, 'bo', label='Data Points')\n",
    "    ax.plot(X, y_pred, 'r-', label='Fitted Line')\n",
    "    ax.set_xlabel('Experience')\n",
    "    ax.set_ylabel('Salary')\n",
    "    ax.set_title('Simple Linear Regression')\n",
    "    ax.legend(loc='upper left')\n",
    "    plt.show()\n",
    "    \n",
    "df = pd.read_csv('data.csv')\n",
    "X, y = df['experience'].to_numpy(), df['salary'].to_numpy()\n",
    "slr(X, y)"
   ]
  }
 ],
 "metadata": {
  "kernelspec": {
   "display_name": "Python 3 (ipykernel)",
   "language": "python",
   "name": "python3"
  },
  "language_info": {
   "codemirror_mode": {
    "name": "ipython",
    "version": 3
   },
   "file_extension": ".py",
   "mimetype": "text/x-python",
   "name": "python",
   "nbconvert_exporter": "python",
   "pygments_lexer": "ipython3",
   "version": "3.11.4"
  }
 },
 "nbformat": 4,
 "nbformat_minor": 5
}
