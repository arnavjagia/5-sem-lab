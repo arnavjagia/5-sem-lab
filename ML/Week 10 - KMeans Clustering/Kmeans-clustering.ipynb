{
 "cells": [
  {
   "cell_type": "code",
   "execution_count": 1,
   "id": "1bb4b4d2",
   "metadata": {},
   "outputs": [],
   "source": [
    "import numpy as np\n",
    "import pandas as pd\n",
    "import matplotlib.pyplot as plt\n",
    "import warnings\n",
    "warnings.filterwarnings('ignore')"
   ]
  },
  {
   "cell_type": "code",
   "execution_count": 9,
   "id": "fe71cdad",
   "metadata": {},
   "outputs": [
    {
     "name": "stdout",
     "output_type": "stream",
     "text": [
      "Optimal k is: 3\n"
     ]
    }
   ],
   "source": [
    "df = pd.read_csv(\"baseball.csv\")\n",
    "\n",
    "\n",
    "def compute_distance(point, centroid, metric=\"euclidean\", p=3):\n",
    "    diff = np.abs(point - centroid)\n",
    "    if metric == \"euclidean\":\n",
    "        return np.sqrt(np.sum(diff**2))\n",
    "    elif metric == \"manhattan\":\n",
    "        return np.sum(diff)\n",
    "    return np.power(np.sum(diff**p), 1 / p)\n",
    "\n",
    "\n",
    "def k_means(data, k, metric=\"euclidean\", max_iter=100):\n",
    "    centroids = data.sample(k).to_numpy()\n",
    "    clusters, sse = np.zeros(len(data)), []\n",
    "\n",
    "    for _ in range(max_iter):\n",
    "        distances = np.array(\n",
    "            [\n",
    "                [compute_distance(row, c, metric) for c in centroids]\n",
    "                for row in data.to_numpy()\n",
    "            ]\n",
    "        )\n",
    "        clusters = distances.argmin(axis=1)\n",
    "\n",
    "        sse.append(\n",
    "            np.sum(\n",
    "                [\n",
    "                    np.sum((data.iloc[clusters == i] - centroids[i]) ** 2)\n",
    "                    for i in range(k)\n",
    "                ]\n",
    "            )\n",
    "        )\n",
    "        new_centroids = np.array(\n",
    "            [\n",
    "                data.iloc[clusters == i].mean().fillna(centroids[i][0]).to_numpy()\n",
    "                for i in range(k)\n",
    "            ]\n",
    "        )\n",
    "\n",
    "        if np.all(new_centroids == centroids):\n",
    "            break\n",
    "        centroids = new_centroids\n",
    "\n",
    "    return clusters, centroids, sse\n",
    "\n",
    "\n",
    "sse_results = [k_means(df, k)[2][-1] for k in range(1, 5)]\n",
    "\n",
    "optimal_k = np.argmin(np.diff(sse_results, 2)) + 2\n",
    "print(f\"Optimal k is: {optimal_k}\")"
   ]
  },
  {
   "cell_type": "code",
   "execution_count": null,
   "id": "a4459db2",
   "metadata": {},
   "outputs": [],
   "source": []
  }
 ],
 "metadata": {
  "kernelspec": {
   "display_name": "Python 3 (ipykernel)",
   "language": "python",
   "name": "python3"
  },
  "language_info": {
   "codemirror_mode": {
    "name": "ipython",
    "version": 3
   },
   "file_extension": ".py",
   "mimetype": "text/x-python",
   "name": "python",
   "nbconvert_exporter": "python",
   "pygments_lexer": "ipython3",
   "version": "3.11.4"
  }
 },
 "nbformat": 4,
 "nbformat_minor": 5
}
