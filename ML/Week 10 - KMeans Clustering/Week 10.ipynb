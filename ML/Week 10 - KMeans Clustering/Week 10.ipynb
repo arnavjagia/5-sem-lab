{
 "cells": [
  {
   "cell_type": "code",
   "execution_count": 14,
   "id": "1bb4b4d2",
   "metadata": {},
   "outputs": [],
   "source": [
    "import numpy as np\n",
    "import pandas as pd\n",
    "import matplotlib.pyplot as plt\n",
    "import seaborn as sns\n",
    "import warnings"
   ]
  },
  {
   "cell_type": "code",
   "execution_count": 15,
   "id": "fe71cdad",
   "metadata": {},
   "outputs": [
    {
     "ename": "AssertionError",
     "evalue": "invalid action: <built-in function all>",
     "output_type": "error",
     "traceback": [
      "\u001b[0;31m---------------------------------------------------------------------------\u001b[0m",
      "\u001b[0;31mAssertionError\u001b[0m                            Traceback (most recent call last)",
      "Cell \u001b[0;32mIn[15], line 1\u001b[0m\n\u001b[0;32m----> 1\u001b[0m \u001b[43mwarnings\u001b[49m\u001b[38;5;241;43m.\u001b[39;49m\u001b[43mfilterwarnings\u001b[49m\u001b[43m(\u001b[49m\u001b[38;5;28;43mall\u001b[39;49m\u001b[43m)\u001b[49m\n\u001b[1;32m      2\u001b[0m df \u001b[38;5;241m=\u001b[39m pd\u001b[38;5;241m.\u001b[39mread_csv(\u001b[38;5;124m'\u001b[39m\u001b[38;5;124mbaseball.csv\u001b[39m\u001b[38;5;124m'\u001b[39m)\n\u001b[1;32m      4\u001b[0m \u001b[38;5;28;01mdef\u001b[39;00m \u001b[38;5;21mcompute_distance\u001b[39m(point, centroid, metric\u001b[38;5;241m=\u001b[39m\u001b[38;5;124m'\u001b[39m\u001b[38;5;124meuclidean\u001b[39m\u001b[38;5;124m'\u001b[39m, p\u001b[38;5;241m=\u001b[39m\u001b[38;5;241m3\u001b[39m):\n",
      "File \u001b[0;32m/usr/lib/python3.12/warnings.py:143\u001b[0m, in \u001b[0;36mfilterwarnings\u001b[0;34m(action, message, category, module, lineno, append)\u001b[0m\n\u001b[1;32m    131\u001b[0m \u001b[38;5;28;01mdef\u001b[39;00m \u001b[38;5;21mfilterwarnings\u001b[39m(action, message\u001b[38;5;241m=\u001b[39m\u001b[38;5;124m\"\u001b[39m\u001b[38;5;124m\"\u001b[39m, category\u001b[38;5;241m=\u001b[39m\u001b[38;5;167;01mWarning\u001b[39;00m, module\u001b[38;5;241m=\u001b[39m\u001b[38;5;124m\"\u001b[39m\u001b[38;5;124m\"\u001b[39m, lineno\u001b[38;5;241m=\u001b[39m\u001b[38;5;241m0\u001b[39m,\n\u001b[1;32m    132\u001b[0m                    append\u001b[38;5;241m=\u001b[39m\u001b[38;5;28;01mFalse\u001b[39;00m):\n\u001b[1;32m    133\u001b[0m \u001b[38;5;250m    \u001b[39m\u001b[38;5;124;03m\"\"\"Insert an entry into the list of warnings filters (at the front).\u001b[39;00m\n\u001b[1;32m    134\u001b[0m \n\u001b[1;32m    135\u001b[0m \u001b[38;5;124;03m    'action' -- one of \"error\", \"ignore\", \"always\", \"default\", \"module\",\u001b[39;00m\n\u001b[0;32m   (...)\u001b[0m\n\u001b[1;32m    141\u001b[0m \u001b[38;5;124;03m    'append' -- if true, append to the list of filters\u001b[39;00m\n\u001b[1;32m    142\u001b[0m \u001b[38;5;124;03m    \"\"\"\u001b[39;00m\n\u001b[0;32m--> 143\u001b[0m     \u001b[38;5;28;01massert\u001b[39;00m action \u001b[38;5;129;01min\u001b[39;00m (\u001b[38;5;124m\"\u001b[39m\u001b[38;5;124merror\u001b[39m\u001b[38;5;124m\"\u001b[39m, \u001b[38;5;124m\"\u001b[39m\u001b[38;5;124mignore\u001b[39m\u001b[38;5;124m\"\u001b[39m, \u001b[38;5;124m\"\u001b[39m\u001b[38;5;124malways\u001b[39m\u001b[38;5;124m\"\u001b[39m, \u001b[38;5;124m\"\u001b[39m\u001b[38;5;124mdefault\u001b[39m\u001b[38;5;124m\"\u001b[39m, \u001b[38;5;124m\"\u001b[39m\u001b[38;5;124mmodule\u001b[39m\u001b[38;5;124m\"\u001b[39m,\n\u001b[1;32m    144\u001b[0m                       \u001b[38;5;124m\"\u001b[39m\u001b[38;5;124monce\u001b[39m\u001b[38;5;124m\"\u001b[39m), \u001b[38;5;124m\"\u001b[39m\u001b[38;5;124minvalid action: \u001b[39m\u001b[38;5;132;01m%r\u001b[39;00m\u001b[38;5;124m\"\u001b[39m \u001b[38;5;241m%\u001b[39m (action,)\n\u001b[1;32m    145\u001b[0m     \u001b[38;5;28;01massert\u001b[39;00m \u001b[38;5;28misinstance\u001b[39m(message, \u001b[38;5;28mstr\u001b[39m), \u001b[38;5;124m\"\u001b[39m\u001b[38;5;124mmessage must be a string\u001b[39m\u001b[38;5;124m\"\u001b[39m\n\u001b[1;32m    146\u001b[0m     \u001b[38;5;28;01massert\u001b[39;00m \u001b[38;5;28misinstance\u001b[39m(category, \u001b[38;5;28mtype\u001b[39m), \u001b[38;5;124m\"\u001b[39m\u001b[38;5;124mcategory must be a class\u001b[39m\u001b[38;5;124m\"\u001b[39m\n",
      "\u001b[0;31mAssertionError\u001b[0m: invalid action: <built-in function all>"
     ]
    }
   ],
   "source": [
    "warnings.filterwarnings(all)\n",
    "df = pd.read_csv('baseball.csv')\n",
    "\n",
    "def compute_distance(point, centroid, metric='euclidean', p=3):\n",
    "    diff = np.abs(point - centroid)\n",
    "    if metric == 'euclidean':\n",
    "        return np.sqrt(np.sum(diff**2))\n",
    "    elif metric == 'manhattan':\n",
    "        return np.sum(diff)\n",
    "    return np.power(np.sum(diff**p), 1/p)\n",
    "\n",
    "def k_means(data, k, metric='euclidean', max_iter=100):\n",
    "    centroids = data.sample(k).to_numpy()\n",
    "    clusters, sse = np.zeros(len(data)), []\n",
    "    \n",
    "    for _ in range(max_iter):\n",
    "        distances = np.array([[compute_distance(row, c, metric) for c in centroids] for row in data.to_numpy()])\n",
    "        clusters = distances.argmin(axis=1)\n",
    "        \n",
    "        sse.append(np.sum(\n",
    "            [np.sum((data.iloc[clusters==i] - centroids[i])**2)for i in range(k)]\n",
    "        ))\n",
    "        new_centroids = np.array([data.iloc[clusters==i].mean().fillna(centroids[i][0]).to_numpy() for i in range(k)])\n",
    "        \n",
    "        if np.all(new_centroids==centroids):\n",
    "            break\n",
    "        centroids = new_centroids\n",
    "    \n",
    "    return clusters, centroids, sse\n",
    "\n",
    "sse_results = [\n",
    "    k_means(df, k)[2][-1]\n",
    "    for k in range(1, 5)\n",
    "]\n",
    "\n",
    "optimal_k = np.argmin(np.diff(sse_results, 2)) + 2\n",
    "print(f'Optimal k is: {optimal_k}')"
   ]
  },
  {
   "cell_type": "code",
   "execution_count": null,
   "id": "a4459db2",
   "metadata": {},
   "outputs": [],
   "source": []
  }
 ],
 "metadata": {
  "kernelspec": {
   "display_name": "Python 3 (ipykernel)",
   "language": "python",
   "name": "python3"
  },
  "language_info": {
   "codemirror_mode": {
    "name": "ipython",
    "version": 3
   },
   "file_extension": ".py",
   "mimetype": "text/x-python",
   "name": "python",
   "nbconvert_exporter": "python",
   "pygments_lexer": "ipython3",
   "version": "3.12.3"
  }
 },
 "nbformat": 4,
 "nbformat_minor": 5
}
