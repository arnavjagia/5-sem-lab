{
 "cells": [
  {
   "cell_type": "code",
   "execution_count": 51,
   "id": "2bbc6c7d",
   "metadata": {},
   "outputs": [],
   "source": [
    "import pandas as pd\n",
    "import numpy as np\n",
    "from sklearn.model_selection import train_test_split\n",
    "import matplotlib.pyplot as plt"
   ]
  },
  {
   "cell_type": "markdown",
   "id": "984a29f5",
   "metadata": {},
   "source": [
    "Q1\n",
    "Consider the hepatitis/ pima-indians-diabetes csv file, perform the following date pre-processing.\n",
    "1. Load data in Pandas.\n",
    "2. Drop columns that aren’t useful.\n",
    "3. Drop rows with missing values.\n",
    "4. Create dummy variables.\n",
    "5. Take care of missing data.\n",
    "6. Convert the data frame to NumPy.\n",
    "7. Divide the data set into training data and test data."
   ]
  },
  {
   "cell_type": "code",
   "execution_count": 52,
   "id": "e1e015ed",
   "metadata": {},
   "outputs": [],
   "source": [
    "# Load data in Pandas.\n",
    "hepatitis = pd.read_csv('hepatitis_csv.csv')\n",
    "diabetes = pd.read_csv('diabetes_csv.csv')\n",
    "\n",
    "# Drop columns that aren’t useful.\n",
    "# assuming spiders in hepatitis is not useful\n",
    "hepatitis.drop(labels = 'spiders', axis = 1, inplace = True)\n",
    "\n",
    "# Drop rows with missing values.\n",
    "hepatitis.dropna(axis=1, thresh=int(len(hepatitis)*0.1), inplace = True)\n",
    "\n",
    "# Create dummy variables\n",
    "hepatitis=pd.get_dummies(hepatitis, columns=['sex', 'class'], drop_first=True)\n",
    "\n",
    "# Take care of missing data\n",
    "hepatitis.fillna(hepatitis.select_dtypes(include='number').mean(), inplace = True)\n",
    "\n",
    "# Convert the data frame to NumPy\n",
    "hepatitis.to_numpy()\n",
    "\n",
    "# Divide the data set into training data and test data.\n",
    "X = hepatitis.drop('class_live', axis=1)\n",
    "y = hepatitis['class_live']\n",
    "X_train, X_test, y_train, y_test = train_test_split(X, y, test_size=0.2, random_state=42)"
   ]
  },
  {
   "cell_type": "markdown",
   "id": "5ac06810",
   "metadata": {},
   "source": [
    "Q2  \n",
    "a. Construct a CSV file with the following attributes:  \n",
    "Study time in hours of ML lab course (x)  \n",
    "Score out of 10 (y)  \n",
    "The dataset should contain 10 rows.\n",
    "\n",
    "b. Create a regression model and display the following:  \n",
    "    Coefficients: B0 (intercept) and B1 (slope)  \n",
    "    RMSE (Root Mean Square Error)  \n",
    "    Predicted responses  \n",
    "    \n",
    "c. Create a scatter plot of the data points in red color and plot the graph of x vs. predicted y in blue color.  \n",
    "\n",
    "d. Implement the model using two methods:  \n",
    "Pedhazur formula (intuitive)  \n",
    "Calculus method (partial derivatives, refer to class notes)  \n",
    "\n",
    "e. Compare the coefficients obtained using both methods and compare them with the analytical solution.  \n",
    "\n",
    "f. Test your model to predict the score obtained when the study time of a student is 10 hours.  \n",
    "Note: Do not use scikit-learn."
   ]
  },
  {
   "cell_type": "code",
   "execution_count": 53,
   "id": "e8db2077",
   "metadata": {},
   "outputs": [],
   "source": [
    "\"\"\"\n",
    "a. Construct a CSV file with the following attributes:\n",
    "Study time in hours of ML lab course (x)\n",
    "Score out of 10 (y)\n",
    "\"\"\"\n",
    "hours = np.random.normal(20, 10, 10) # mean, stdev, shape\n",
    "hours[hours < 0] = 0\n",
    "\n",
    "score = (2 * hours + np.ones(10)) + np.random.random(10) # f(X) + e\n",
    "\n",
    "df = pd.DataFrame({\"hours\": hours, \"score\": score})\n",
    "df.to_csv(\"asdf.csv\", index = False)"
   ]
  },
  {
   "cell_type": "code",
   "execution_count": 80,
   "id": "3e99b39f",
   "metadata": {},
   "outputs": [
    {
     "name": "stdout",
     "output_type": "stream",
     "text": [
      "Intercept (B0): 1.6961931743276608\n",
      "Slope (B1): 1.9908718846817217\n"
     ]
    }
   ],
   "source": [
    "df = pd.read_csv(\"asdf.csv\")\n",
    "X = df['hours'].to_numpy()\n",
    "y = df['score'].to_numpy()\n",
    "n = len(X)\n",
    "\n",
    "# Calculate the means of X and y\n",
    "mean_x = np.mean(X)\n",
    "mean_y = np.mean(y)\n",
    "\n",
    "# Calculate B1 (slope)\n",
    "numerator = (n * np.sum(X * y)) - (np.sum(X) * np.sum(y))\n",
    "denominator = (n * np.sum(X ** 2)) - (np.sum(X) ** 2)\n",
    "B1 = numerator / denominator\n",
    "\n",
    "# Calculate B0 (intercept)\n",
    "B0 = mean_y - (B1 * mean_x)\n",
    "\n",
    "print(f\"Intercept (B0): {B0}\")\n",
    "print(f\"Slope (B1): {B1}\")\n"
   ]
  },
  {
   "cell_type": "code",
   "execution_count": 81,
   "id": "5ca81a91",
   "metadata": {},
   "outputs": [
    {
     "name": "stdout",
     "output_type": "stream",
     "text": [
      "[1.69619317 1.99087188]\n",
      "1\n",
      "(2,)\n",
      "Intercept (B0): 1.696193174327611\n",
      "Slope (B1): 1.9908718846817228\n",
      "RMSE: 0.32865581663227017\n",
      "Predicted responses: [57.11938649  1.69619317 16.03361538 54.21039917 21.35108312 63.34039694\n",
      " 50.95116641 44.40463253 39.80740343 15.81116761]\n"
     ]
    }
   ],
   "source": [
    "\"\"\"\n",
    "b. Create a regression model and display the following:\n",
    "    Coefficients: B0 (intercept) and B1 (slope)\n",
    "    RMSE (Root Mean Square Error)\n",
    "    Predicted responses\n",
    "\"\"\"\n",
    "df = pd.read_csv(\"asdf.csv\")\n",
    "X = df['hours'].to_numpy()\n",
    "y = df['score'].to_numpy()\n",
    "\n",
    "# Add a column of ones to X for the intercept term\n",
    "X_b = np.c_[np.ones_like(X), X]  # This will be the matrix [1, X]\n",
    "\n",
    "# Calculate coefficients using the Normal Equation: (X^T X)^-1 X^T y\n",
    "theta_best = np.linalg.inv(X_b.T @ X_b) @ X_b.T @ y\n",
    "print(theta_best)\n",
    "print(theta_best.ndim)\n",
    "print(theta_best.shape)\n",
    "\n",
    "b0, b1 = theta_best\n",
    "print(f\"Intercept (B0): {b0}\")\n",
    "print(f\"Slope (B1): {b1}\")\n",
    "\n",
    "# Make predictions\n",
    "predictions = X_b @ theta_best\n",
    "\n",
    "# Calculate RMSE\n",
    "rmse = np.sqrt(np.mean((y - predictions) ** 2))\n",
    "print(f\"RMSE: {rmse}\")\n",
    "\n",
    "# Display predictions\n",
    "print(\"Predicted responses:\", predictions)"
   ]
  },
  {
   "cell_type": "code",
   "execution_count": 55,
   "id": "6cff7147",
   "metadata": {},
   "outputs": [
    {
     "data": {
      "image/png": "[encoded data removed]",
      "text/plain": [
       "<Figure size 640x480 with 1 Axes>"
      ]
     },
     "metadata": {},
     "output_type": "display_data"
    }
   ],
   "source": [
    "\"\"\"\n",
    "c. Create a scatter plot of the data points in red color and plot the graph of x vs. predicted y in blue color.\n",
    "\"\"\"\n",
    "# Scatter plot of actual data\n",
    "plt.scatter(df['hours'], df['score'], color='red', label='Actual data')\n",
    "\n",
    "# Plot the regression line\n",
    "plt.plot(df['hours'], predictions, color='blue', label='Fitted line')\n",
    "\n",
    "plt.xlabel('Study time (hours)')\n",
    "plt.ylabel('Score')\n",
    "plt.title('Study Time vs Score')\n",
    "plt.legend()\n",
    "plt.show()"
   ]
  },
  {
   "cell_type": "code",
   "execution_count": 56,
   "id": "2806e2da",
   "metadata": {},
   "outputs": [
    {
     "name": "stdout",
     "output_type": "stream",
     "text": [
      "Pedhazur B0: 1.6961931743276608\n",
      "Pedhazur B1: 1.9908718846817217\n"
     ]
    }
   ],
   "source": [
    "\"\"\"\n",
    "d. Implement the model using two methods:\n",
    "Pedhazur formula (intuitive)\n",
    "Calculus method (partial derivatives, refer to class notes)\n",
    "\"\"\"\n",
    "# Calculate means\n",
    "X_mean = np.mean(X)\n",
    "y_mean = np.mean(y)\n",
    "\n",
    "# Calculate covariance and variance\n",
    "cov_xy = np.mean(X * y) - X_mean * y_mean\n",
    "var_x = np.mean(X**2) - X_mean**2\n",
    "\n",
    "# Calculate B1 and B0\n",
    "b1_pedhazur = cov_xy / var_x\n",
    "b0_pedhazur = y_mean - b1_pedhazur * X_mean\n",
    "\n",
    "print(f\"Pedhazur B0: {b0_pedhazur}\")\n",
    "print(f\"Pedhazur B1: {b1_pedhazur}\")"
   ]
  },
  {
   "cell_type": "code",
   "execution_count": 57,
   "id": "438d5dd8",
   "metadata": {},
   "outputs": [
    {
     "name": "stdout",
     "output_type": "stream",
     "text": [
      "Calculus B0: 1.696193174327611\n",
      "Calculus B1: 1.9908718846817228\n"
     ]
    }
   ],
   "source": [
    "\"\"\"\n",
    "Calculus method (partial derivatives, refer to class notes)\n",
    "\"\"\"\n",
    "\n",
    "# Partial derivatives calculation\n",
    "X = df['hours'].to_numpy()\n",
    "y = df['score'].to_numpy()\n",
    "\n",
    "# Add intercept term\n",
    "X_b = np.c_[np.ones_like(X), X]\n",
    "\n",
    "# Calculate coefficients\n",
    "coefficients = np.linalg.inv(X_b.T @ X_b) @ X_b.T @ y\n",
    "\n",
    "b0_calculus, b1_calculus = coefficients\n",
    "\n",
    "print(f\"Calculus B0: {b0_calculus}\")\n",
    "print(f\"Calculus B1: {b1_calculus}\")"
   ]
  },
  {
   "cell_type": "code",
   "execution_count": 58,
   "id": "dc8a2a75",
   "metadata": {},
   "outputs": [
    {
     "name": "stdout",
     "output_type": "stream",
     "text": [
      "Pedhazur B0: 1.6961931743276608, B1: 1.9908718846817217\n",
      "Calculus B0: 1.696193174327611, B1: 1.9908718846817228\n"
     ]
    }
   ],
   "source": [
    "\"\"\"\n",
    "e. Compare the coefficients obtained using both methods and compare them with the analytical solution.\n",
    "\"\"\"\n",
    "print(f\"Pedhazur B0: {b0_pedhazur}, B1: {b1_pedhazur}\")\n",
    "print(f\"Calculus B0: {b0_calculus}, B1: {b1_calculus}\")"
   ]
  },
  {
   "cell_type": "code",
   "execution_count": 59,
   "id": "04f538de",
   "metadata": {},
   "outputs": [
    {
     "name": "stdout",
     "output_type": "stream",
     "text": [
      "Predicted score for 10 hours of study: 21.60491202114484\n"
     ]
    }
   ],
   "source": [
    "\"\"\"\n",
    "f. Test your model to predict the score obtained when the study time of a student is 10 hours.\n",
    "\"\"\"\n",
    "hours_to_predict = np.array([10])\n",
    "X_to_predict = np.c_[np.ones_like(hours_to_predict), hours_to_predict]\n",
    "predicted_score = X_to_predict @ theta_best\n",
    "\n",
    "print(f\"Predicted score for 10 hours of study: {predicted_score[0]}\")"
   ]
  },
  {
   "cell_type": "code",
   "execution_count": null,
   "id": "5edef80c",
   "metadata": {},
   "outputs": [],
   "source": []
  }
 ],
 "metadata": {
  "kernelspec": {
   "display_name": "Python 3 (ipykernel)",
   "language": "python",
   "name": "python3"
  },
  "language_info": {
   "codemirror_mode": {
    "name": "ipython",
    "version": 3
   },
   "file_extension": ".py",
   "mimetype": "text/x-python",
   "name": "python",
   "nbconvert_exporter": "python",
   "pygments_lexer": "ipython3",
   "version": "3.11.4"
  }
 },
 "nbformat": 4,
 "nbformat_minor": 5
}
