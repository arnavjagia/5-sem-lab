{
 "cells": [
  {
   "cell_type": "code",
   "execution_count": 1,
   "id": "de07cca2",
   "metadata": {},
   "outputs": [],
   "source": [
    "import pandas as pd"
   ]
  },
  {
   "cell_type": "markdown",
   "id": "8cee858b",
   "metadata": {},
   "source": [
    "Q1  \n",
    "The data set of size n = 15 (Yield data) contains measurements of yield from an experiment done at  \n",
    "five different temperature levels. The variables are y = yield and x = temperature in degrees Fahrenheit.  \n",
    "The table below gives the data used for this analysis.  \n",
    "i Temp. Yield  \n",
    "1 50 3.3  \n",
    "2 50 2.8  \n",
    "3 50 2.9  \n",
    "4 70 2.3  \n",
    "5 70 2.6  \n",
    "6 70 2.1  \n",
    "7 80 2.5  \n",
    "8 80 2.9  \n",
    "9 80 2.4  \n",
    "10 90 3.0  \n",
    "11 90 3.1  \n",
    "12 90 2.8  \n",
    "13 100 3.3  \n",
    "14 100 3.5  \n",
    "15 100 3.0  \n",
    "a. Create a CSV file with sample data.  \n",
    "b. Write a Python function program to:  \n",
    "Find the fitted simple linear and polynomial regression equations for the given data.  \n",
    "c. Compare the coefficients obtained from manually intuitive and matrix formulation methods with  \n",
    "your program.  \n",
    "d. Plot the scatterplot of the raw data and then another scatterplot with lines pertaining to a linear fit  \n",
    "and a quadratic fit overlayed.  \n",
    "e. Compute the error, MSE, and RMSE.  "
   ]
  },
  {
   "cell_type": "code",
   "execution_count": 2,
   "id": "a8fcc21c",
   "metadata": {},
   "outputs": [],
   "source": [
    "\"\"\"\n",
    "a. Create a CSV file with sample data. \n",
    "\"\"\"\n",
    "\n",
    "data = {\n",
    "    'i': [1, 2, 3, 4, 5, 6, 7, 8, 9, 10, 11, 12, 13, 14, 15],\n",
    "    'Temp': [50, 50, 50, 70, 70, 70, 80, 80, 80, 90, 90, 90, 100, 100, 100],\n",
    "    'Yield': [3.3, 2.8, 2.9, 2.3, 2.6, 2.1, 2.5, 2.9, 2.4, 3.0, 3.1, 2.8, 3.3, 3.5, 3.0]\n",
    "}\n",
    "\n",
    "# Create a DataFrame\n",
    "df = pd.DataFrame(data)\n",
    "\n",
    "# Write the DataFrame to a CSV file\n",
    "df.to_csv('data.csv', index=False)"
   ]
  },
  {
   "cell_type": "code",
   "execution_count": 5,
   "id": "7c18db28",
   "metadata": {},
   "outputs": [
    {
     "name": "stdout",
     "output_type": "stream",
     "text": [
      "Linear Regression Equation: Yield = 2.31 + 0.01 * Temp\n",
      "Polynomial Regression Coefficients (degree 2): [ 7.96048110e+00 -1.53711340e-01  1.07560137e-03]\n"
     ]
    }
   ],
   "source": [
    "\"\"\"\n",
    "b. Write a Python function program to:  \n",
    "Find the fitted simple linear and polynomial regression equations for the given data.\n",
    "\"\"\"\n",
    "import numpy as np\n",
    "import pandas as pd\n",
    "\n",
    "# Function to fit linear regression\n",
    "def fit_linear_regression(X, y):\n",
    "    # Add a column of ones to X for the intercept\n",
    "    X_b = np.c_[np.ones((X.shape[0], 1)), X]\n",
    "    # Compute the optimal parameters using the normal equation\n",
    "    theta_best = np.linalg.inv(X_b.T.dot(X_b)).dot(X_b.T).dot(y)\n",
    "    return theta_best\n",
    "\n",
    "# Function to fit polynomial regression\n",
    "def fit_polynomial_regression(X, y, degree):\n",
    "    # Create the Vandermonde matrix for polynomial features\n",
    "    X_poly = np.vander(X.flatten(), degree + 1, increasing=True)\n",
    "    # Compute the optimal parameters using the normal equation\n",
    "    theta_best = np.linalg.inv(X_poly.T.dot(X_poly)).dot(X_poly.T).dot(y)\n",
    "    return theta_best\n",
    "\n",
    "def main():\n",
    "    # Read the data from CSV\n",
    "    df = pd.read_csv('data.csv')\n",
    "    \n",
    "    # Extract columns\n",
    "    X = df['Temp'].values.reshape(-1, 1)\n",
    "    y = df['Yield'].values\n",
    "    \n",
    "    # Fit Linear Regression\n",
    "    theta_linear = fit_linear_regression(X, y)\n",
    "    slope = theta_linear[1]\n",
    "    intercept = theta_linear[0]\n",
    "    print(f\"Linear Regression Equation: Yield = {intercept:.2f} + {slope:.2f} * Temp\")\n",
    "    \n",
    "    # Fit Polynomial Regression (e.g., degree 2 for quadratic)\n",
    "    degree = 2\n",
    "    theta_poly = fit_polynomial_regression(X, y, degree)\n",
    "    print(f\"Polynomial Regression Coefficients (degree {degree}): {theta_poly}\")\n",
    "\n",
    "if __name__ == \"__main__\":\n",
    "    main()"
   ]
  },
  {
   "cell_type": "code",
   "execution_count": null,
   "id": "a86181f7",
   "metadata": {},
   "outputs": [],
   "source": []
  }
 ],
 "metadata": {
  "kernelspec": {
   "display_name": "Python 3 (ipykernel)",
   "language": "python",
   "name": "python3"
  },
  "language_info": {
   "codemirror_mode": {
    "name": "ipython",
    "version": 3
   },
   "file_extension": ".py",
   "mimetype": "text/x-python",
   "name": "python",
   "nbconvert_exporter": "python",
   "pygments_lexer": "ipython3",
   "version": "3.12.3"
  }
 },
 "nbformat": 4,
 "nbformat_minor": 5
}
