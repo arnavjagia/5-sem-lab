{
 "cells": [
  {
   "cell_type": "code",
   "execution_count": 4,
   "id": "cae024f8",
   "metadata": {},
   "outputs": [],
   "source": [
    "import numpy as np\n",
    "import pandas as pd\n",
    "import matplotlib.pyplot as plt"
   ]
  },
  {
   "cell_type": "markdown",
   "id": "3068aad5",
   "metadata": {},
   "source": [
    "## KNN  \n",
    "- non-parametric algorithm  \n",
    "- lazy learning algorithm  "
   ]
  },
  {
   "cell_type": "code",
   "execution_count": 68,
   "id": "f7ef483f",
   "metadata": {},
   "outputs": [
    {
     "name": "stdout",
     "output_type": "stream",
     "text": [
      "Apple\n"
     ]
    }
   ],
   "source": [
    "from heapq import nsmallest, nlargest\n",
    "\n",
    "df = pd.read_csv('data.csv')\n",
    "\n",
    "def euclidean(a, b):\n",
    "    \"\"\"Returns euclidean distance\"\"\"\n",
    "    return (a[0] - b[0])**2 + (a[1] - b[1])**2\n",
    "\n",
    "k = 3\n",
    "new = (165, 5.5)\n",
    "res = []\n",
    "for obs in zip(df['weight'], df['sweetness'], df['label']):\n",
    "    res.append((euclidean(new, obs[:-1]), obs[-1]))\n",
    "temp = [nsmallest(k, res)[i][1] for i in range(k)]\n",
    "print(nlargest(1, temp, key=lambda x: temp.count(x))[0])"
   ]
  },
  {
   "cell_type": "code",
   "execution_count": null,
   "id": "d8268084",
   "metadata": {},
   "outputs": [],
   "source": []
  }
 ],
 "metadata": {
  "kernelspec": {
   "display_name": "Python 3 (ipykernel)",
   "language": "python",
   "name": "python3"
  },
  "language_info": {
   "codemirror_mode": {
    "name": "ipython",
    "version": 3
   },
   "file_extension": ".py",
   "mimetype": "text/x-python",
   "name": "python",
   "nbconvert_exporter": "python",
   "pygments_lexer": "ipython3",
   "version": "3.11.4"
  }
 },
 "nbformat": 4,
 "nbformat_minor": 5
}
