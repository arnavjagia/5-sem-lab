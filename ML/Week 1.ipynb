{
 "cells": [
  {
   "cell_type": "code",
   "execution_count": null,
   "id": "1e7835a6",
   "metadata": {},
   "outputs": [],
   "source": [
    "import numpy as np"
   ]
  },
  {
   "cell_type": "raw",
   "id": "73bead41",
   "metadata": {},
   "source": [
    "1.\n",
    "Convert a 1-D array into a 2-D array with 3 rows.\n",
    "Start with:\n",
    "Assign-1 = np.array([0, 1, 2, 3, 4, 5, 6, 7, 8])\n",
    "Desired output:\n",
    "[[ 0, 1, 2]\n",
    "[3, 4, 5]\n",
    "[6, 7, 8]]"
   ]
  },
  {
   "cell_type": "code",
   "execution_count": 72,
   "id": "1f51a7b9",
   "metadata": {},
   "outputs": [
    {
     "data": {
      "text/plain": [
       "array([[0, 1, 2],\n",
       "       [3, 4, 5],\n",
       "       [6, 7, 8]])"
      ]
     },
     "execution_count": 72,
     "metadata": {},
     "output_type": "execute_result"
    }
   ],
   "source": [
    "A = np.array([0, 1, 2, 3, 4, 5, 6, 7, 8])\n",
    "A.reshape(3, -1)"
   ]
  },
  {
   "cell_type": "raw",
   "id": "74ac24ab",
   "metadata": {},
   "source": [
    "2.\n",
    "Replace all odd numbers in the given array with -1\n",
    "Start with:\n",
    "Assign-2 = np.array([0, 1, 2, 3, 4, 5, 6, 7, 8, 9])\n",
    "Desired output:\n",
    "[ 0, -1, 2, -1, 4, -1, 6, -1, 8, -1]"
   ]
  },
  {
   "cell_type": "code",
   "execution_count": 149,
   "id": "dac7f1ae",
   "metadata": {},
   "outputs": [
    {
     "data": {
      "text/plain": [
       "array([ 0, -1,  2, -1,  4, -1,  6, -1,  8, -1])"
      ]
     },
     "execution_count": 149,
     "metadata": {},
     "output_type": "execute_result"
    }
   ],
   "source": [
    "A = np.array([0, 1, 2, 3, 4, 5, 6, 7, 8, 9])\n",
    "A[A % 2 != 0] = -1\n",
    "A\n",
    "\n",
    "# Alternatively\n",
    "# a[np.where(a%2!=0)] = -1\n",
    "# Where returns array of indices\n",
    "# while the above returns array of bool"
   ]
  },
  {
   "cell_type": "raw",
   "id": "83eadbe0",
   "metadata": {},
   "source": [
    "3.\n",
    "Find the positions of:\n",
    "\n",
    "elements in x where its value is more than its corresponding element in y, and elements in x where its value is equals to its corresponding element in y.\n",
    "\n",
    "Start with these:\n",
    "x = np.array([21, 64, 86, 22, 74, 55, 81, 79, 90, 89]) \n",
    "y = np.array([21, 7, 3, 45, 10, 29, 55, 4, 37, 18])\n",
    "\n",
    "Desired output:\n",
    "(array([1, 2, 4, 5, 6, 7, 8, 9]),) and (array([0]),)"
   ]
  },
  {
   "cell_type": "markdown",
   "id": "dae0772a",
   "metadata": {},
   "source": [
    "🔴 Read on \"where\" in numpy🔴"
   ]
  },
  {
   "cell_type": "code",
   "execution_count": 147,
   "id": "7c68c930",
   "metadata": {},
   "outputs": [
    {
     "data": {
      "text/plain": [
       "(array([1, 2, 4, 5, 6, 7, 8, 9]),)"
      ]
     },
     "execution_count": 147,
     "metadata": {},
     "output_type": "execute_result"
    }
   ],
   "source": [
    "X = np.array([21, 64, 86, 22, 74, 55, 81, 79, 90, 89]) \n",
    "Y = np.array([21, 7, 3, 45, 10, 29, 55, 4, 37, 18])\n",
    "\n",
    "np.where(X > Y)"
   ]
  },
  {
   "cell_type": "code",
   "execution_count": 148,
   "id": "4d3d8140",
   "metadata": {},
   "outputs": [
    {
     "data": {
      "text/plain": [
       "(array([0]),)"
      ]
     },
     "execution_count": 148,
     "metadata": {},
     "output_type": "execute_result"
    }
   ],
   "source": [
    "np.where(X == Y)"
   ]
  },
  {
   "cell_type": "raw",
   "id": "9aec874f",
   "metadata": {},
   "source": [
    "4.\n",
    "Extract the first four columns of this 2-D array.\n",
    "Start with this: \n",
    "Assign-4= np.arange(100).reshape(5,-1)\n",
    " \n",
    "Desired output:\n",
    "[[ 0 1 2 3]\n",
    "[20 21 22 23]\n",
    "[40 41 42 43]\n",
    "[60 61 62 63]\n",
    "[80 81 82 83]]"
   ]
  },
  {
   "cell_type": "code",
   "execution_count": 67,
   "id": "92c2de08",
   "metadata": {},
   "outputs": [
    {
     "data": {
      "text/plain": [
       "array([[ 0,  1,  2,  3],\n",
       "       [20, 21, 22, 23],\n",
       "       [40, 41, 42, 43],\n",
       "       [60, 61, 62, 63],\n",
       "       [80, 81, 82, 83]])"
      ]
     },
     "execution_count": 67,
     "metadata": {},
     "output_type": "execute_result"
    }
   ],
   "source": [
    "A = np.arange(100).reshape(5,-1)\n",
    "A[:, :4]"
   ]
  },
  {
   "cell_type": "markdown",
   "id": "2bcdd195",
   "metadata": {},
   "source": [
    "### Additional Problems"
   ]
  },
  {
   "cell_type": "raw",
   "id": "b28c529a",
   "metadata": {},
   "source": [
    "1.\n",
    "Generate a 1-D array of 10 random integers. Each integer should be a number between 30 and 40 (inclusive).\n",
    "Sample of desired output: \n",
    "[36, 30, 36, 38, 31, 35, 36, 30, 32, 34]"
   ]
  },
  {
   "cell_type": "code",
   "execution_count": 111,
   "id": "458ad373",
   "metadata": {},
   "outputs": [
    {
     "data": {
      "text/plain": [
       "array([33, 38, 34, 33, 40, 38, 38, 35, 33, 38])"
      ]
     },
     "execution_count": 111,
     "metadata": {},
     "output_type": "execute_result"
    }
   ],
   "source": [
    "A = np.random.randint(30, high=41, size=10)\n",
    "A"
   ]
  },
  {
   "cell_type": "raw",
   "id": "7cc7118f",
   "metadata": {},
   "source": [
    "2.\n",
    "Consider the following matrices :\n",
    "A= ((1, 2, 3), (4, 5, 6), (7, 8, 10)) and   B = ((7, 8, 10) ,(4, 5, 6), (1, 2, 3))\n",
    "Write a python program to perform the following using Numeric Python (numpy)."
   ]
  },
  {
   "cell_type": "raw",
   "id": "17064faa",
   "metadata": {},
   "source": [
    "i) Add and Subtract of the Matrix A and B, print the resultant matrix C for add and E for subtract."
   ]
  },
  {
   "cell_type": "code",
   "execution_count": 131,
   "id": "70776f3c",
   "metadata": {},
   "outputs": [
    {
     "name": "stdout",
     "output_type": "stream",
     "text": [
      "[[ 8 10 13]\n",
      " [ 8 10 12]\n",
      " [ 8 10 13]]\n",
      "\n",
      "[[-6 -6 -7]\n",
      " [ 0  0  0]\n",
      " [ 6  6  7]]\n"
     ]
    }
   ],
   "source": [
    "A = np.array([[1, 2, 3], [4, 5, 6], [7, 8, 10]])\n",
    "B = np.array([[7, 8, 10] ,[4, 5, 6], [1, 2, 3]])\n",
    "C = A + B\n",
    "E = A - B\n",
    "\n",
    "print(C)\n",
    "print()\n",
    "print(E)"
   ]
  },
  {
   "cell_type": "raw",
   "id": "62b5c0ea",
   "metadata": {},
   "source": [
    "ii) Compute the sum of all elements of Matrix A, sum of each column of Matrix B and sum of each row of Matrix C"
   ]
  },
  {
   "cell_type": "code",
   "execution_count": 140,
   "id": "c931a54f",
   "metadata": {},
   "outputs": [
    {
     "name": "stdout",
     "output_type": "stream",
     "text": [
      "46\n",
      "[12 15 19]\n",
      "[31 30 31]\n"
     ]
    }
   ],
   "source": [
    "print(np.sum(a))              # all ele sum\n",
    "print(np.sum(b, axis=0))      # column wise sum ,i.e, row output\n",
    "print(np.sum(c, axis=1))      # row wise sum    ,i.e, column ouput"
   ]
  },
  {
   "cell_type": "raw",
   "id": "5ac612e0",
   "metadata": {},
   "source": [
    "iii) Product of two matrices A and B, and print the resultant matrix D"
   ]
  },
  {
   "cell_type": "code",
   "execution_count": 141,
   "id": "664f7503",
   "metadata": {},
   "outputs": [
    {
     "data": {
      "text/plain": [
       "array([[ 18,  24,  31],\n",
       "       [ 54,  69,  88],\n",
       "       [ 91, 116, 148]])"
      ]
     },
     "execution_count": 141,
     "metadata": {},
     "output_type": "execute_result"
    }
   ],
   "source": [
    "D = A @ B\n",
    "D"
   ]
  },
  {
   "cell_type": "raw",
   "id": "57f50fcb",
   "metadata": {},
   "source": [
    "iv) Sort the elements of resultant matrix C and print the resultant Matrix E.                           "
   ]
  },
  {
   "cell_type": "code",
   "execution_count": 142,
   "id": "a3fc256f",
   "metadata": {},
   "outputs": [
    {
     "data": {
      "text/plain": [
       "array([[ 8, 10, 13],\n",
       "       [ 8, 10, 12],\n",
       "       [ 8, 10, 13]])"
      ]
     },
     "execution_count": 142,
     "metadata": {},
     "output_type": "execute_result"
    }
   ],
   "source": [
    "E = np.sort(C)\n",
    "E"
   ]
  },
  {
   "cell_type": "raw",
   "id": "074eb6fb",
   "metadata": {},
   "source": [
    "v) Transpose the Matrix E and print the result"
   ]
  },
  {
   "cell_type": "code",
   "execution_count": 143,
   "id": "41f42ff8",
   "metadata": {},
   "outputs": [
    {
     "data": {
      "text/plain": [
       "array([[ 8,  8,  8],\n",
       "       [10, 10, 10],\n",
       "       [13, 12, 13]])"
      ]
     },
     "execution_count": 143,
     "metadata": {},
     "output_type": "execute_result"
    }
   ],
   "source": [
    "E = np.transpose(E)\n",
    "E\n",
    "\n",
    "# or simply E.T"
   ]
  }
 ],
 "metadata": {
  "kernelspec": {
   "display_name": "Python 3 (ipykernel)",
   "language": "python",
   "name": "python3"
  },
  "language_info": {
   "codemirror_mode": {
    "name": "ipython",
    "version": 3
   },
   "file_extension": ".py",
   "mimetype": "text/x-python",
   "name": "python",
   "nbconvert_exporter": "python",
   "pygments_lexer": "ipython3",
   "version": "3.12.3"
  }
 },
 "nbformat": 4,
 "nbformat_minor": 5
}
