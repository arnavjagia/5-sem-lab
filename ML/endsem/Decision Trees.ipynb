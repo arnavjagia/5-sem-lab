{
 "cells": [
  {
   "cell_type": "markdown",
   "metadata": {},
   "source": [
    "# Decision Trees"
   ]
  },
  {
   "cell_type": "code",
   "execution_count": 1,
   "metadata": {},
   "outputs": [],
   "source": [
    "import numpy as np\n",
    "import pandas as pd\n",
    "from pandas import DataFrame\n",
    "import matplotlib.pyplot as plt\n",
    "from collections import defaultdict\n",
    "from statistics import mode"
   ]
  },
  {
   "cell_type": "markdown",
   "metadata": {},
   "source": [
    "Build Decision Tree and predict"
   ]
  },
  {
   "cell_type": "code",
   "execution_count": 2,
   "metadata": {},
   "outputs": [],
   "source": [
    "def build_decision_tree(df: DataFrame) -> dict:\n",
    "    # base case where the target column has the same values\n",
    "    if len(np.unique(df.iloc[:, -1])) == 1:\n",
    "        return df.iloc[0, -1]\n",
    "    # base case where all columns are exhausted and target column is left\n",
    "    elif len(df.columns) == 1:\n",
    "        return mode(df.iloc[:, -1])\n",
    "    \n",
    "    split_col = best_split_col(df)\n",
    "    tree = defaultdict(None)\n",
    "    tree[\"column_name\"] = split_col\n",
    "\n",
    "    for value in np.unique(df[split_col]):\n",
    "        subset = df[df[split_col] == value].drop(columns=[split_col])\n",
    "        tree[value] = build_decision_tree(subset)\n",
    "    \n",
    "    return tree\n",
    "\n",
    "def predict(root: dict, test: dict) -> str:\n",
    "    node = root\n",
    "    while isinstance(node, dict):\n",
    "        col = node[\"column_name\"]\n",
    "        node = node[test[col]]\n",
    "    return node"
   ]
  },
  {
   "cell_type": "markdown",
   "metadata": {},
   "source": [
    "### ID 3"
   ]
  },
  {
   "cell_type": "code",
   "execution_count": 3,
   "metadata": {},
   "outputs": [],
   "source": [
    "def best_split_col(df):\n",
    "    best_col, best_gain = None, 0\n",
    "\n",
    "    for col in df.columns[:-1]:\n",
    "        cur_gain = information_gain(df, col)\n",
    "\n",
    "        if cur_gain >= best_gain:\n",
    "            best_col, best_gain = col, cur_gain\n",
    "    \n",
    "    return best_col\n",
    "\n",
    "def information_gain(df, col):\n",
    "    return entropy(df) - sum(\n",
    "        (freq / len(df)) * entropy(df[df[col] == x])\n",
    "        for x, freq in zip(*np.unique(df[col], return_counts=True))\n",
    "    )\n",
    "\n",
    "def entropy(df):\n",
    "    return -sum(\n",
    "        (freq / len(df)) * np.log2(freq / len(df))\n",
    "        for freq in np.unique(df.iloc[:, -1], return_counts=True)[1]\n",
    "    )"
   ]
  },
  {
   "cell_type": "code",
   "execution_count": 4,
   "metadata": {},
   "outputs": [
    {
     "data": {
      "text/plain": [
       "defaultdict(None,\n",
       "            {'column_name': 'cholesterol',\n",
       "             'high': 'sick',\n",
       "             'normal': 'healthy'})"
      ]
     },
     "execution_count": 4,
     "metadata": {},
     "output_type": "execute_result"
    }
   ],
   "source": [
    "path = \"data/data08_2.csv\"\n",
    "df = pd.read_csv(path)\n",
    "tree = build_decision_tree(df)\n",
    "tree"
   ]
  },
  {
   "cell_type": "code",
   "execution_count": 5,
   "metadata": {},
   "outputs": [
    {
     "data": {
      "text/plain": [
       "'sick'"
      ]
     },
     "execution_count": 5,
     "metadata": {},
     "output_type": "execute_result"
    }
   ],
   "source": [
    "\n",
    "D = {'age': 50, 'bp': 'low', 'cholesterol': 'high'}\n",
    "predict(tree, D)"
   ]
  },
  {
   "cell_type": "markdown",
   "metadata": {},
   "source": [
    "### C4.5"
   ]
  },
  {
   "cell_type": "code",
   "execution_count": 6,
   "metadata": {},
   "outputs": [],
   "source": [
    "def best_split_col(df):\n",
    "    best_column, best_ratio = None, 0\n",
    "\n",
    "    for col in df.columns[:-1]:\n",
    "        p = information_gain(df, col)\n",
    "        q = split_info(df, col)\n",
    "        if p / q > best_ratio:\n",
    "            best_column, best_ratio = col, p / q\n",
    "        \n",
    "    return best_column\n",
    "\n",
    "def information_gain(df, col):\n",
    "    return entropy(df) - sum(\n",
    "        (freq / len(df)) * entropy(df[df[col] == x])\n",
    "        for x, freq in zip(*np.unique(df[col], return_counts=True))\n",
    "    )\n",
    "\n",
    "def entropy(df):\n",
    "    return -sum(\n",
    "        (freq / len(df)) * np.log2(freq / len(df))\n",
    "        for freq in np.unique(df.iloc[:, -1], return_counts=True)[1]\n",
    "    )\n",
    "\n",
    "def split_info(df, col):\n",
    "    return -sum(\n",
    "        (freq / len(df)) * np.log2(freq / len(df))\n",
    "        for freq in np.unique(df[col], return_counts=True)[1]\n",
    "    )"
   ]
  },
  {
   "cell_type": "code",
   "execution_count": 7,
   "metadata": {},
   "outputs": [
    {
     "name": "stdout",
     "output_type": "stream",
     "text": [
      "Index(['Outlook', 'Temp', 'Humidity', 'Wind', 'Tennis'], dtype='object')\n"
     ]
    }
   ],
   "source": [
    "path = 'data/data09_1.csv'\n",
    "df = pd.read_csv(path)\n",
    "print(df.columns)\n"
   ]
  },
  {
   "cell_type": "code",
   "execution_count": 8,
   "metadata": {},
   "outputs": [
    {
     "data": {
      "text/plain": [
       "defaultdict(None,\n",
       "            {'column_name': 'Outlook',\n",
       "             'Overcast': 'Yes',\n",
       "             'Rain': defaultdict(None,\n",
       "                         {'column_name': 'Wind',\n",
       "                          'Strong': 'No',\n",
       "                          'Weak': 'Yes'}),\n",
       "             'Sunny': defaultdict(None,\n",
       "                         {'column_name': 'Humidity',\n",
       "                          'High': 'No',\n",
       "                          'Normal': 'Yes'})})"
      ]
     },
     "execution_count": 8,
     "metadata": {},
     "output_type": "execute_result"
    }
   ],
   "source": [
    "tree = build_decision_tree(df)\n",
    "tree"
   ]
  },
  {
   "cell_type": "code",
   "execution_count": 9,
   "metadata": {},
   "outputs": [
    {
     "data": {
      "text/plain": [
       "'Yes'"
      ]
     },
     "execution_count": 9,
     "metadata": {},
     "output_type": "execute_result"
    }
   ],
   "source": [
    "test = {\n",
    "    'Outlook': 'Sunny',\n",
    "    'Temp': 'Mild',\n",
    "    'Humidity': 'Normal',\n",
    "    'Wind': 'Weak'\n",
    "}\n",
    "predict(tree, test)"
   ]
  },
  {
   "cell_type": "markdown",
   "metadata": {},
   "source": [
    "### CART\n",
    "Gini index based"
   ]
  },
  {
   "cell_type": "code",
   "execution_count": 10,
   "metadata": {},
   "outputs": [],
   "source": [
    "def best_split_col(df):\n",
    "    print('CART IS USED')\n",
    "    best_col, best_delta = None, 0\n",
    "\n",
    "    for col in df.columns[:-1]:\n",
    "        delta = gini_reduction(df, col)\n",
    "\n",
    "        if delta > best_delta:\n",
    "            best_col, best_delta = col, delta\n",
    "        \n",
    "    return best_col\n",
    "\n",
    "def gini_reduction(df, col):\n",
    "    return gini(df) - sum(\n",
    "        (freq / len(df)) * gini(df[df[col] == x])\n",
    "        for x, freq in zip(*np.unique(df[col], return_counts=True))\n",
    "    )\n",
    "\n",
    "def gini(df):\n",
    "    return 1 - sum(\n",
    "        (freq / len(df))**2\n",
    "        for _, freq in zip(*np.unique(df.iloc[:, -1], return_counts=True))\n",
    "    )"
   ]
  },
  {
   "cell_type": "code",
   "execution_count": 11,
   "metadata": {},
   "outputs": [
    {
     "name": "stdout",
     "output_type": "stream",
     "text": [
      "CART IS USED\n",
      "CART IS USED\n",
      "CART IS USED\n"
     ]
    },
    {
     "data": {
      "text/plain": [
       "defaultdict(None,\n",
       "            {'column_name': 'Outlook',\n",
       "             'Overcast': 'Yes',\n",
       "             'Rain': defaultdict(None,\n",
       "                         {'column_name': 'Wind',\n",
       "                          'Strong': 'No',\n",
       "                          'Weak': 'Yes'}),\n",
       "             'Sunny': defaultdict(None,\n",
       "                         {'column_name': 'Humidity',\n",
       "                          'High': 'No',\n",
       "                          'Normal': 'Yes'})})"
      ]
     },
     "execution_count": 11,
     "metadata": {},
     "output_type": "execute_result"
    }
   ],
   "source": [
    "tree = build_decision_tree(df)\n",
    "tree"
   ]
  },
  {
   "cell_type": "code",
   "execution_count": 12,
   "metadata": {},
   "outputs": [
    {
     "data": {
      "text/plain": [
       "'Yes'"
      ]
     },
     "execution_count": 12,
     "metadata": {},
     "output_type": "execute_result"
    }
   ],
   "source": [
    "test = {\n",
    "    'Outlook': 'Sunny',\n",
    "    'Temp': 'Mild',\n",
    "    'Humidity': 'Normal',\n",
    "    'Wind': 'Weak'\n",
    "}\n",
    "predict(tree, test)"
   ]
  },
  {
   "cell_type": "code",
   "execution_count": null,
   "metadata": {},
   "outputs": [],
   "source": []
  }
 ],
 "metadata": {
  "kernelspec": {
   "display_name": ".venv",
   "language": "python",
   "name": "python3"
  },
  "language_info": {
   "codemirror_mode": {
    "name": "ipython",
    "version": 3
   },
   "file_extension": ".py",
   "mimetype": "text/x-python",
   "name": "python",
   "nbconvert_exporter": "python",
   "pygments_lexer": "ipython3",
   "version": "3.11.4"
  }
 },
 "nbformat": 4,
 "nbformat_minor": 2
}
