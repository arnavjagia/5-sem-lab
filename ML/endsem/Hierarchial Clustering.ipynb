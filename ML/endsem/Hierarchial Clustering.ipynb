{
 "cells": [
  {
   "cell_type": "code",
   "execution_count": 1,
   "id": "de5367f5-db39-42f9-bbcb-256b0fbaa4bc",
   "metadata": {},
   "outputs": [
    {
     "name": "stdout",
     "output_type": "stream",
     "text": [
      "   x  y\n",
      "0  1  1\n",
      "1  3  2\n",
      "2  9  1\n",
      "3  3  7\n",
      "4  7  2\n",
      "5  9  7\n",
      "6  4  8\n",
      "7  8  3\n",
      "8  1  4\n",
      "[[1, 1], [3, 2], [9, 1], [3, 7], [7, 2], [9, 7], [4, 8], [8, 3], [1, 4]]\n"
     ]
    }
   ],
   "source": [
    "import pandas as pd\n",
    "import numpy as np\n",
    "\n",
    "data = pd.read_csv('data/data11.csv')\n",
    "print(data)\n",
    "# conversion of dataframe to list\n",
    "points = data.to_numpy().tolist()\n",
    "print(points)"
   ]
  },
  {
   "cell_type": "code",
   "execution_count": 2,
   "id": "073920c1-c645-47fe-85bc-f75916ec5d93",
   "metadata": {},
   "outputs": [],
   "source": [
    "# distance metrics\n",
    "def euclid(x, y):\n",
    "    return ((x[0] - y[0]) ** 2 + (x[1] - y[1]) ** 2) ** 0.5\n",
    "\n",
    "def manhatten(x, y):\n",
    "    return abs(x[0] - y[0]) + abs(x[1] - y[1])\n",
    "\n",
    "def minkowsky(x, y, p):\n",
    "    return (((x[0] - y[0]) ** p) + ((x[1] - y[1]) ** p)) ** (1 / p)"
   ]
  },
  {
   "cell_type": "code",
   "execution_count": 3,
   "id": "6c05fe6f-ab1c-4eb3-bc9d-cdec66fb96e3",
   "metadata": {},
   "outputs": [],
   "source": [
    "# distance matrix creation\n",
    "# p will be used if metric is minkowsky\n",
    "def matrix_creation(points, metric, p = 2):\n",
    "    n = len(points)\n",
    "    mat = [[0] * n for _ in range(n)]\n",
    "    for i in range(n):\n",
    "        for j in range(n):\n",
    "            if metric == 'euclid':\n",
    "                mat[i][j] = euclid(points[i], points[j])\n",
    "            if metric == 'manhatten':\n",
    "                mat[i][j] = manhatten(points[i], points[j])\n",
    "            else:\n",
    "                mat[i][j] = minkowsky(points[i], points[j], p)\n",
    "    return mat"
   ]
  },
  {
   "cell_type": "code",
   "execution_count": 4,
   "id": "ec668bcd-f703-4fa4-b9f9-092d191e3eb2",
   "metadata": {},
   "outputs": [],
   "source": [
    "# heirarchal clustering metrics\n",
    "def single(mat, i, j, store):\n",
    "    return min(mat[x][y] for x in store[i] for y in store[j])\n",
    "    \n",
    "def complete(mat, i, j, store):\n",
    "    return max(mat[x][y] for x in store[i] for y in store[j])\n",
    "    \n",
    "def average(mat, i, j, store):\n",
    "    ret = 0\n",
    "    for x in store[i]:\n",
    "        for y in store[j]:\n",
    "            ret += mat[x][y]\n",
    "    return ret / (len(store[i]) * len(store[j]))\n",
    "\n",
    "def centroid(points, i, j, store):\n",
    "    x = np.array(points)\n",
    "    a = np.mean(x[store[i]], axis = 0)\n",
    "    b = np.mean(x[store[j]], axis = 0)\n",
    "    return euclid(a, b)\n",
    "\n",
    "def ward(points, i, j, store):\n",
    "    x = np.array(points)\n",
    "    centroid_i = np.mean(x[store[i]], axis = 0)\n",
    "    centroid_j = np.mean(x[store[j]], axis = 0)\n",
    "    a, b = len(store[i]), len(store[j])\n",
    "    return ((a * b) / (a + b)) * (euclid(centroid_i, centroid_j) ** 2)"
   ]
  },
  {
   "cell_type": "code",
   "execution_count": 5,
   "id": "bd7fe7ec-cc63-4cfa-8180-199fe0f46a98",
   "metadata": {},
   "outputs": [
    {
     "name": "stdout",
     "output_type": "stream",
     "text": [
      "[[0], [1], [2], [3], [4], [5], [6], [7], [8]]\n",
      "[[0], [1], [2], [3], [5], [6], [8], [4, 7]]\n",
      "[[0], [1], [2], [5], [8], [4, 7], [3, 6]]\n",
      "[[2], [5], [8], [4, 7], [3, 6], [0, 1]]\n",
      "[[5], [8], [3, 6], [0, 1], [2, 4, 7]]\n",
      "[[5], [3, 6], [2, 4, 7], [8, 0, 1]]\n",
      "[[3, 6], [8, 0, 1], [5, 2, 4, 7]]\n",
      "[[5, 2, 4, 7], [3, 6, 8, 0, 1]]\n",
      "[[5, 2, 4, 7, 3, 6, 8, 0, 1]]\n"
     ]
    }
   ],
   "source": [
    "# heirarchal clustering starts\n",
    "\n",
    "def heirarchal_clustering(points, metric_dis, metric_cluster, p = 2):\n",
    "    # store is used to track all current clusters\n",
    "    store = [[i] for i in range(len(points))]\n",
    "    # get distance matrix\n",
    "    mat = matrix_creation(points, metric_dis, p)\n",
    "    \n",
    "    while len(store) > 1:\n",
    "        \n",
    "        print(store)\n",
    "        \n",
    "        merge = (-1, -1)\n",
    "        \n",
    "        if metric_cluster == 'single':\n",
    "            dist = float('inf')\n",
    "            for i in range(len(store)):\n",
    "                for j in range(i + 1, len(store)):\n",
    "                    val = single(mat, i, j, store)\n",
    "                    if val < dist:\n",
    "                        dist = val\n",
    "                        merge = (i, j)\n",
    "                        \n",
    "        elif metric_cluster == 'complete':\n",
    "            dist = float('inf')\n",
    "            for i in range(len(store)):\n",
    "                for j in range(i + 1, len(store)):\n",
    "                    val = complete(mat, i, j, store)\n",
    "                    if val < dist:\n",
    "                        dist = val\n",
    "                        merge = (i, j)\n",
    "                        \n",
    "        elif metric_cluster == 'average':\n",
    "            dist = float('inf')\n",
    "            for i in range(len(store)):\n",
    "                for j in range(i + 1, len(store)):\n",
    "                    val = average(mat, i, j, store)\n",
    "                    if val < dist:\n",
    "                        dist = val\n",
    "                        merge = (i, j)\n",
    "                        \n",
    "        elif metric_cluster == 'centroid':\n",
    "            dist = float('inf')\n",
    "            for i in range(len(store)):\n",
    "                for j in range(i + 1, len(store)):\n",
    "                    val = centroid(points, i, j, store)\n",
    "                    if val < dist:\n",
    "                        dist = val\n",
    "                        merge = (i, j)\n",
    "\n",
    "        elif metric_cluster == 'ward':\n",
    "            dist = float('inf')\n",
    "            for i in range(len(store)):\n",
    "                for j in range(i + 1, len(store)):\n",
    "                    val = ward(points, i, j, store)\n",
    "                    if val <= dist:\n",
    "                        dist = val\n",
    "                        merge = (i, j)\n",
    "\n",
    "        # finding clusters that have to be merged\n",
    "        a = store[merge[0]]\n",
    "        b = store[merge[1]]\n",
    "        # merging clusters\n",
    "        store = store[: merge[0]] + store[merge[0] + 1: merge[1]] + store[merge[1] + 1: ] + [a + b]\n",
    "        \n",
    "    print(store)\n",
    "\n",
    "heirarchal_clustering(points, 'euclid', 'ward')\n",
    "        "
   ]
  },
  {
   "cell_type": "code",
   "execution_count": null,
   "id": "d5197ff3-edcd-4ebf-80fd-7b8340494045",
   "metadata": {},
   "outputs": [],
   "source": []
  }
 ],
 "metadata": {
  "kernelspec": {
   "display_name": ".venv",
   "language": "python",
   "name": "python3"
  },
  "language_info": {
   "codemirror_mode": {
    "name": "ipython",
    "version": 3
   },
   "file_extension": ".py",
   "mimetype": "text/x-python",
   "name": "python",
   "nbconvert_exporter": "python",
   "pygments_lexer": "ipython3",
   "version": "3.11.4"
  }
 },
 "nbformat": 4,
 "nbformat_minor": 5
}
