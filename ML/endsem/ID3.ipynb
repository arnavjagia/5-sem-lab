{
 "cells": [
  {
   "cell_type": "code",
   "execution_count": 1,
   "metadata": {},
   "outputs": [],
   "source": [
    "import numpy as np\n",
    "import pandas as pd"
   ]
  },
  {
   "cell_type": "code",
   "execution_count": 2,
   "metadata": {},
   "outputs": [],
   "source": [
    "# create csv of dataset\n",
    "data = \"\"\"\n",
    "pid,age,bp,cholestrol,diagnosis\n",
    "1,30,high,high,sick\n",
    "2,45,low,normal,healthy\n",
    "3,50,high,high,sick\n",
    "4,35,low,normal,healthy\n",
    "5,60,high,high,sick\n",
    "6,55,low,normal,healthy\n",
    "7,40,high,high,sick\n",
    "8,25,low,normal,healthy\n",
    "9,65,high,high,sick\n",
    "10,45,low,normal,healthy\n",
    "\"\"\"\n",
    "\n",
    "# write dataset to csv\n",
    "with open(\"medical_records.csv\", \"w\") as f:\n",
    "    f.write(data.strip())\n",
    "\n",
    "records = pd.read_csv(\"./medical_records.csv\", header=0)"
   ]
  },
  {
   "cell_type": "code",
   "execution_count": 3,
   "metadata": {},
   "outputs": [
    {
     "name": "stdout",
     "output_type": "stream",
     "text": [
      "0    30\n",
      "1    45\n",
      "2    50\n",
      "3    35\n",
      "4    60\n",
      "5    55\n",
      "6    40\n",
      "7    25\n",
      "8    65\n",
      "9    45\n",
      "Name: age, dtype: int64\n",
      "[25 30 35 40 45 50 55 60 65]\n"
     ]
    }
   ],
   "source": [
    "print(records['age'])\n",
    "print(np.unique(records['age']))"
   ]
  },
  {
   "cell_type": "code",
   "execution_count": 4,
   "metadata": {},
   "outputs": [],
   "source": [
    "# define entropy function\n",
    "def entropy(series):\n",
    "    \"\"\"returns entropy\"\"\"\n",
    "    counts = np.unique(series, return_counts=True)[1]\n",
    "    total = np.sum(counts)\n",
    "\n",
    "    result = 0\n",
    "    for count in counts:\n",
    "        p = count / total\n",
    "        result -= p * np.log2(p)\n",
    "\n",
    "    return result"
   ]
  },
  {
   "cell_type": "code",
   "execution_count": 5,
   "metadata": {},
   "outputs": [
    {
     "data": {
      "text/plain": [
       "np.float64(1.0)"
      ]
     },
     "execution_count": 5,
     "metadata": {},
     "output_type": "execute_result"
    }
   ],
   "source": [
    "# compute entropy of target variable\n",
    "entropy(records['diagnosis'])"
   ]
  },
  {
   "cell_type": "code",
   "execution_count": 6,
   "metadata": {},
   "outputs": [],
   "source": [
    "def information_gain(df, split_col):\n",
    "    \"\"\"Returns the information gain accrued from splitting along a column.\n",
    "    \n",
    "    Example usage:\n",
    "    >>> information_gain(df, 'age')\n",
    "    \"\"\"\n",
    "    keys, counts = np.unique(df[split_col], return_counts=True)\n",
    "    n = sum(counts)\n",
    "\n",
    "    new_entropy = 0\n",
    "    for i, x in enumerate(keys):\n",
    "        new_entropy += (counts[i] / n) * entropy(df[df[split_col] == x].iloc[:, -1])\n",
    "    \n",
    "    return entropy(df.iloc[:, -1]) - new_entropy"
   ]
  },
  {
   "cell_type": "markdown",
   "metadata": {},
   "source": [
    "[Information Gain explained](https://medium.com/@ompramod9921/decision-trees-6a3c05e9cb82)"
   ]
  },
  {
   "cell_type": "code",
   "execution_count": 7,
   "metadata": {},
   "outputs": [],
   "source": [
    "def information_gain(df, parent, split_column):\n",
    "    features, feature_count = np.unique(df[split_column], return_counts=True)\n",
    "    total = sum(feature_count)\n",
    "    child_entropy = 0\n",
    "    for i, x in enumerate(features):\n",
    "        child_entropy += (feature_count[i] / total) * entropy(df[df[split_column] == x].iloc[:, -1])\n",
    "    return entropy(df[parent]) - child_entropy"
   ]
  },
  {
   "cell_type": "code",
   "execution_count": 8,
   "metadata": {},
   "outputs": [
    {
     "name": "stdout",
     "output_type": "stream",
     "text": [
      "1.0\n",
      "1.0\n",
      "1.0\n"
     ]
    }
   ],
   "source": [
    "# Calculate the information gain for each feature (Age, Blood Pressure, Cholesterol).\n",
    "print(information_gain(records, 'diagnosis', 'age'))\n",
    "print(information_gain(records, 'diagnosis', 'bp'))\n",
    "print(information_gain(records, 'diagnosis', 'cholestrol'))"
   ]
  },
  {
   "cell_type": "code",
   "execution_count": 16,
   "metadata": {},
   "outputs": [],
   "source": [
    "from collections import defaultdict\n",
    "\n",
    "\n",
    "def build_tree(df):\n",
    "    if len(np.unique(df.iloc[:, -1])) == 1:\n",
    "        return df.iloc[0, -1]\n",
    "\n",
    "    if len(df.columns) == 1:\n",
    "        return df.iloc[:, -1].mode()[0]\n",
    "\n",
    "    best_column, best_gain = None, 0\n",
    "    for col in df.columns[:-1]:\n",
    "        current_information_gain = information_gain(df, 'diagnosis', col)\n",
    "        if current_information_gain >= best_gain:\n",
    "            best_column, best_gain = col, current_information_gain\n",
    "\n",
    "    tree = defaultdict(None)\n",
    "    for value in np.unique(df[best_column]):\n",
    "        print(tree)\n",
    "        subset = df[df[best_column] == value].drop(best_column, axis=1)\n",
    "        tree[value] = build_tree(subset)\n",
    "        tree[\"column_name\"] = best_column\n",
    "\n",
    "    return tree\n",
    "\n",
    "def predict(root, D):\n",
    "    node = root\n",
    "    while isinstance(node, dict):\n",
    "        print(node)\n",
    "        column = node[\"column_name\"]\n",
    "        node = node[D[column]]\n",
    "    return node"
   ]
  },
  {
   "cell_type": "code",
   "execution_count": 17,
   "metadata": {},
   "outputs": [
    {
     "name": "stdout",
     "output_type": "stream",
     "text": [
      "defaultdict(None, {})\n",
      "defaultdict(None, {'high': 'sick', 'column_name': 'cholestrol'})\n",
      "defaultdict(None, {'high': 'sick', 'column_name': 'cholestrol', 'normal': 'healthy'})\n"
     ]
    },
    {
     "data": {
      "text/plain": [
       "'sick'"
      ]
     },
     "execution_count": 17,
     "metadata": {},
     "output_type": "execute_result"
    }
   ],
   "source": [
    "tree = build_tree(records)\n",
    "D = {'age': 50, 'bp': 'low', 'cholestrol': 'high'}\n",
    "predict(tree, D)"
   ]
  },
  {
   "cell_type": "code",
   "execution_count": null,
   "metadata": {},
   "outputs": [],
   "source": []
  }
 ],
 "metadata": {
  "kernelspec": {
   "display_name": ".venv",
   "language": "python",
   "name": "python3"
  },
  "language_info": {
   "codemirror_mode": {
    "name": "ipython",
    "version": 3
   },
   "file_extension": ".py",
   "mimetype": "text/x-python",
   "name": "python",
   "nbconvert_exporter": "python",
   "pygments_lexer": "ipython3",
   "version": "3.11.4"
  }
 },
 "nbformat": 4,
 "nbformat_minor": 2
}
