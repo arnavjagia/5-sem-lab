{
 "cells": [
  {
   "cell_type": "code",
   "execution_count": 7,
   "id": "initial_id",
   "metadata": {
    "collapsed": true
   },
   "outputs": [],
   "source": [
    "from pyspark.sql import SparkSession\n",
    "\n",
    "spark = SparkSession.builder.getOrCreate()\n",
    "sc = spark.sparkContext"
   ]
  },
  {
   "cell_type": "markdown",
   "id": "3724ae97e2646c29",
   "metadata": {},
   "source": [
    "Question 1"
   ]
  },
  {
   "cell_type": "code",
   "execution_count": 10,
   "id": "86c06762",
   "metadata": {
    "ExecuteTime": {
     "end_time": "2024-08-18T14:29:19.151434Z",
     "start_time": "2024-08-18T14:29:18.051524Z"
    }
   },
   "outputs": [
    {
     "data": {
      "text/plain": [
       "[0, 1, 4, 9, 16]"
      ]
     },
     "execution_count": 10,
     "metadata": {},
     "output_type": "execute_result"
    }
   ],
   "source": [
    "L = sc.parallelize(range(5))\n",
    "L.map(lambda x: x ** 2).collect()"
   ]
  },
  {
   "cell_type": "markdown",
   "id": "b99df0bb4a0155d7",
   "metadata": {},
   "source": [
    "Question 2"
   ]
  },
  {
   "cell_type": "code",
   "execution_count": 9,
   "id": "8e75ef3b79b0a534",
   "metadata": {
    "ExecuteTime": {
     "end_time": "2024-08-18T14:30:50.741152Z",
     "start_time": "2024-08-18T14:30:50.528697Z"
    }
   },
   "outputs": [
    {
     "data": {
      "text/plain": [
       "4"
      ]
     },
     "execution_count": 9,
     "metadata": {},
     "output_type": "execute_result"
    }
   ],
   "source": [
    "L.max()"
   ]
  },
  {
   "cell_type": "markdown",
   "id": "8c7324b15d1bb707",
   "metadata": {},
   "source": [
    "Question 3"
   ]
  },
  {
   "cell_type": "code",
   "execution_count": 5,
   "id": "f280f66290d9039b",
   "metadata": {
    "ExecuteTime": {
     "end_time": "2024-08-18T14:30:56.784436Z",
     "start_time": "2024-08-18T14:30:56.609399Z"
    }
   },
   "outputs": [
    {
     "data": {
      "text/plain": [
       "2.0"
      ]
     },
     "execution_count": 5,
     "metadata": {},
     "output_type": "execute_result"
    }
   ],
   "source": [
    "L.mean()"
   ]
  },
  {
   "cell_type": "markdown",
   "id": "15e9ab5fabbb20c6",
   "metadata": {},
   "source": [
    "Question 4"
   ]
  },
  {
   "cell_type": "code",
   "execution_count": 15,
   "id": "19e9fd92489f62ba",
   "metadata": {
    "ExecuteTime": {
     "end_time": "2024-08-18T20:41:15.368992Z",
     "start_time": "2024-08-18T20:41:14.861755Z"
    }
   },
   "outputs": [
    {
     "name": "stdout",
     "output_type": "stream",
     "text": [
      "+---+---+---+\n",
      "|  x|  y|  z|\n",
      "+---+---+---+\n",
      "|  1|  2|  3|\n",
      "|  2|  4|  6|\n",
      "|  3|  6|  9|\n",
      "|  4|  8| 12|\n",
      "|  5| 10| 15|\n",
      "+---+---+---+\n",
      "\n"
     ]
    }
   ],
   "source": [
    "file_path = 'data/foo.csv'\n",
    "df = spark.read.csv(file_path, header=True)\n",
    "\n",
    "df.show()"
   ]
  },
  {
   "cell_type": "markdown",
   "id": "7b649da4",
   "metadata": {},
   "source": [
    "Question 5"
   ]
  },
  {
   "cell_type": "code",
   "execution_count": 16,
   "id": "ec493ee4",
   "metadata": {},
   "outputs": [
    {
     "name": "stdout",
     "output_type": "stream",
     "text": [
      "+---+---+---+\n",
      "|  x|  y|  z|\n",
      "+---+---+---+\n",
      "|  1|  2|  3|\n",
      "|  2|  4|  6|\n",
      "|  3|  6|  9|\n",
      "+---+---+---+\n",
      "only showing top 3 rows\n",
      "\n",
      "root\n",
      " |-- x: string (nullable = true)\n",
      " |-- y: string (nullable = true)\n",
      " |-- z: string (nullable = true)\n",
      "\n"
     ]
    }
   ],
   "source": [
    "df.show(3) # display the first 3 rows, defaults to 20\n",
    "\n",
    "df.printSchema()"
   ]
  },
  {
   "cell_type": "markdown",
   "id": "cc47dc42",
   "metadata": {},
   "source": [
    "Question 6"
   ]
  },
  {
   "cell_type": "code",
   "execution_count": 17,
   "id": "3b4ff3d9",
   "metadata": {},
   "outputs": [
    {
     "name": "stdout",
     "output_type": "stream",
     "text": [
      "+-------+------------------+\n",
      "|summary|                 x|\n",
      "+-------+------------------+\n",
      "|  count|                 5|\n",
      "|   mean|               3.0|\n",
      "| stddev|1.5811388300841898|\n",
      "|    min|                 1|\n",
      "|    max|                 5|\n",
      "+-------+------------------+\n",
      "\n"
     ]
    }
   ],
   "source": [
    "df.describe('x').show()\n",
    "\n",
    "# another alternative is\n",
    "# df.select(df.x).describe().show()"
   ]
  },
  {
   "cell_type": "code",
   "execution_count": 18,
   "id": "02a2bc32",
   "metadata": {},
   "outputs": [],
   "source": [
    "spark.stop()"
   ]
  }
 ],
 "metadata": {
  "kernelspec": {
   "display_name": "Python 3",
   "language": "python",
   "name": "python3"
  },
  "language_info": {
   "codemirror_mode": {
    "name": "ipython",
    "version": 3
   },
   "file_extension": ".py",
   "mimetype": "text/x-python",
   "name": "python",
   "nbconvert_exporter": "python",
   "pygments_lexer": "ipython3",
   "version": "3.11.9"
  }
 },
 "nbformat": 4,
 "nbformat_minor": 5
}
