{
 "cells": [
  {
   "cell_type": "code",
   "execution_count": 46,
   "metadata": {},
   "outputs": [],
   "source": [
    "from pyspark.sql import SparkSession\n",
    "spark = SparkSession.builder.getOrCreate()\n",
    "spark.sparkContext.setLogLevel(\"OFF\")"
   ]
  },
  {
   "cell_type": "markdown",
   "metadata": {},
   "source": [
    "### Reading user-artist interaction data"
   ]
  },
  {
   "cell_type": "code",
   "execution_count": 47,
   "metadata": {},
   "outputs": [],
   "source": [
    "user_artist_data_path = \"data/audioscrobbler/user_artist_data.txt\"\n",
    "raw_user_artist_data = spark.read.text(user_artist_data_path)"
   ]
  },
  {
   "cell_type": "code",
   "execution_count": 48,
   "metadata": {},
   "outputs": [
    {
     "name": "stdout",
     "output_type": "stream",
     "text": [
      "+------------------+\n",
      "|             value|\n",
      "+------------------+\n",
      "|      1000002 1 55|\n",
      "|1000002 1000006 33|\n",
      "| 1000002 1000007 8|\n",
      "+------------------+\n",
      "only showing top 3 rows\n",
      "\n"
     ]
    }
   ],
   "source": [
    "raw_user_artist_data.show(3) # user ID, artist ID, and play count"
   ]
  },
  {
   "cell_type": "markdown",
   "metadata": {},
   "source": [
    "`raw_user_artist_data` is like a list of strings. Not very useful. We parse it into a DataFrame with 3 integer-type columns."
   ]
  },
  {
   "cell_type": "code",
   "execution_count": 49,
   "metadata": {},
   "outputs": [],
   "source": [
    "raw_user_artist_data.createOrReplaceTempView(\"raw_user_artist_data\")\n",
    "\n",
    "query = \"\"\"\n",
    "    select \n",
    "        cast(split(value, ' ')[0] as int) as user,\n",
    "        cast(split(value, ' ')[1] as int) as artist,\n",
    "        cast(split(value, ' ')[2] as int) as count\n",
    "    from raw_user_artist_data\n",
    "\"\"\"\n",
    "user_artist_data = spark.sql(query)"
   ]
  },
  {
   "cell_type": "code",
   "execution_count": 50,
   "metadata": {},
   "outputs": [
    {
     "name": "stdout",
     "output_type": "stream",
     "text": [
      "+-------+-------+-----+\n",
      "|   user| artist|count|\n",
      "+-------+-------+-----+\n",
      "|1000002|      1|   55|\n",
      "|1000002|1000006|   33|\n",
      "|1000002|1000007|    8|\n",
      "+-------+-------+-----+\n",
      "only showing top 3 rows\n",
      "\n"
     ]
    }
   ],
   "source": [
    "user_artist_data.show(3)"
   ]
  },
  {
   "cell_type": "markdown",
   "metadata": {},
   "source": [
    "### Reading artist aliases"
   ]
  },
  {
   "cell_type": "code",
   "execution_count": 51,
   "metadata": {},
   "outputs": [],
   "source": [
    "artist_alias_path = \"data/audioscrobbler/artist_alias.txt\"\n",
    "raw_artist_alias = spark.read.text(artist_alias_path)\n",
    "\n",
    "raw_artist_alias.createOrReplaceTempView(\"raw_artist_alias\")\n",
    "\n",
    "query = \"\"\"\n",
    "    select \n",
    "        cast(split(value, '\\t')[0] as int) as artist,\n",
    "        cast(split(value, '\\t')[1] as int) as alias\n",
    "    from raw_artist_alias\n",
    "\"\"\"\n",
    "artist_alias = spark.sql(query)"
   ]
  },
  {
   "cell_type": "code",
   "execution_count": 52,
   "metadata": {},
   "outputs": [
    {
     "name": "stdout",
     "output_type": "stream",
     "text": [
      "+-------+-------+\n",
      "| artist|  alias|\n",
      "+-------+-------+\n",
      "|1092764|1000311|\n",
      "|1095122|1000557|\n",
      "|6708070|1007267|\n",
      "+-------+-------+\n",
      "only showing top 3 rows\n",
      "\n"
     ]
    }
   ],
   "source": [
    "artist_alias.show(3)"
   ]
  },
  {
   "cell_type": "markdown",
   "metadata": {},
   "source": [
    "### Prepare the training and testing data"
   ]
  },
  {
   "cell_type": "markdown",
   "metadata": {},
   "source": [
    "Using `artist_alias` to replace artist IDs by their appropriate alias."
   ]
  },
  {
   "cell_type": "code",
   "execution_count": null,
   "metadata": {},
   "outputs": [],
   "source": [
    "from pyspark.sql.functions import when, col\n",
    "\n",
    "user_artist_data.createOrReplaceTempView(\"user_artist_data\")\n",
    "artist_alias.createOrReplaceTempView(\"artist_alias\")\n",
    "\n",
    "df = spark.sql(\"\"\"\n",
    "    select * \n",
    "    from user_artist_data \n",
    "        natural left join artist_alias;\n",
    "\"\"\")\n",
    "df.createOrReplaceTempView('matrix')\n",
    "\n",
    "M = spark.sql(\"\"\"\n",
    "    select user, count, (case when alias is null then artist else alias end) as artist\n",
    "    from matrix\n",
    "\"\"\")"
   ]
  },
  {
   "cell_type": "code",
   "execution_count": 54,
   "metadata": {},
   "outputs": [],
   "source": [
    "M = M.sample(0.02) # only taking 2% of the data because I'm poor\n",
    "train, test = M.randomSplit([8.0, 2.0])"
   ]
  },
  {
   "cell_type": "markdown",
   "metadata": {},
   "source": [
    "### Training the model"
   ]
  },
  {
   "cell_type": "code",
   "execution_count": 55,
   "metadata": {},
   "outputs": [
    {
     "data": {
      "text/plain": [
       "DataFrame[user: int, count: int, artist: int]"
      ]
     },
     "execution_count": 55,
     "metadata": {},
     "output_type": "execute_result"
    }
   ],
   "source": [
    "train.cache()"
   ]
  },
  {
   "cell_type": "code",
   "execution_count": 56,
   "metadata": {},
   "outputs": [
    {
     "name": "stderr",
     "output_type": "stream",
     "text": [
      "                                                                                \r"
     ]
    }
   ],
   "source": [
    "from pyspark.ml.recommendation import ALS\n",
    "\n",
    "als = ALS(userCol='user', itemCol='artist', ratingCol='count')\n",
    "model = als.fit(train)"
   ]
  },
  {
   "cell_type": "code",
   "execution_count": 64,
   "metadata": {},
   "outputs": [
    {
     "name": "stderr",
     "output_type": "stream",
     "text": [
      "[Stage 3109:>                                                       (0 + 1) / 1]\r"
     ]
    },
    {
     "name": "stdout",
     "output_type": "stream",
     "text": [
      "+-------+-----+-------+-----------+\n",
      "|   user|count| artist| prediction|\n",
      "+-------+-----+-------+-----------+\n",
      "|  10016|    1|1021808|-0.96562994|\n",
      "|  10027|    2|1033211| 0.15959628|\n",
      "|  10137|    1|1009147| -2.3264525|\n",
      "|  10311|    1|1026533| -3.4218102|\n",
      "|  10311|    2|   4455| -23.744621|\n",
      "|1000002|    1|1000716| -22.899334|\n",
      "|1000002|   19|   4324|  6.2149944|\n",
      "|1000019|    1|   1194|  -4.168953|\n",
      "|1000019|    1|1004226|  1.2598414|\n",
      "|1000019|    5|    425|   2.562903|\n",
      "+-------+-----+-------+-----------+\n",
      "only showing top 10 rows\n",
      "\n"
     ]
    },
    {
     "name": "stderr",
     "output_type": "stream",
     "text": [
      "                                                                                \r"
     ]
    }
   ],
   "source": [
    "predictions = model.transform(test)\n",
    "predictions.na.drop().show(10)"
   ]
  },
  {
   "cell_type": "code",
   "execution_count": 65,
   "metadata": {},
   "outputs": [
    {
     "name": "stderr",
     "output_type": "stream",
     "text": [
      "[Stage 3163:>                                                       (0 + 8) / 8]\r"
     ]
    },
    {
     "name": "stdout",
     "output_type": "stream",
     "text": [
      "88.87805079889526\n"
     ]
    },
    {
     "name": "stderr",
     "output_type": "stream",
     "text": [
      "                                                                                \r"
     ]
    }
   ],
   "source": [
    "from pyspark.ml.evaluation import RegressionEvaluator\n",
    "\n",
    "evaluator = RegressionEvaluator(labelCol=\"count\")\n",
    "rmse = evaluator.evaluate(predictions.na.drop())\n",
    "print(rmse)"
   ]
  },
  {
   "cell_type": "markdown",
   "metadata": {},
   "source": [
    "### Hyperparameter tuning \n",
    "Not in lab manual."
   ]
  },
  {
   "cell_type": "code",
   "execution_count": null,
   "metadata": {},
   "outputs": [
    {
     "name": "stderr",
     "output_type": "stream",
     "text": [
      "[Stage 5842:>                                                       (0 + 8) / 8]\r"
     ]
    },
    {
     "name": "stdout",
     "output_type": "stream",
     "text": [
      "280.4069919793438\n",
      "CrossValidatorModel_80b85c43b165\n"
     ]
    },
    {
     "name": "stderr",
     "output_type": "stream",
     "text": [
      "                                                                                \r"
     ]
    }
   ],
   "source": [
    "from pyspark.ml.tuning import CrossValidator, ParamGridBuilder\n",
    "\n",
    "param_grid = ParamGridBuilder() \\\n",
    "    .addGrid(als.rank, [1, 5, 10]) \\\n",
    "    .addGrid(als.maxIter, [5, 10]) \\\n",
    "    .addGrid(als.regParam, [0.05, 0.1]) \\\n",
    "    .build()\n",
    "\n",
    "cv = CrossValidator(estimator=als, estimatorParamMaps=param_grid, evaluator=evaluator)\n",
    "cv_model = cv.fit(train)"
   ]
  },
  {
   "cell_type": "code",
   "execution_count": 67,
   "metadata": {},
   "outputs": [
    {
     "name": "stderr",
     "output_type": "stream",
     "text": [
      "[Stage 5877:>                                                       (0 + 8) / 8]\r"
     ]
    },
    {
     "name": "stdout",
     "output_type": "stream",
     "text": [
      "280.4069919793438\n"
     ]
    },
    {
     "name": "stderr",
     "output_type": "stream",
     "text": [
      "                                                                                \r"
     ]
    }
   ],
   "source": [
    "predictions = cv_model.transform(test)\n",
    "rmse = evaluator.evaluate(predictions.na.drop())\n",
    "print(rmse)"
   ]
  },
  {
   "cell_type": "code",
   "execution_count": 68,
   "metadata": {},
   "outputs": [
    {
     "name": "stdout",
     "output_type": "stream",
     "text": [
      "ALSModel: uid=ALS_749749e5c52e, rank=1\n"
     ]
    }
   ],
   "source": [
    "model = cv_model.bestModel\n",
    "print(model)"
   ]
  }
 ],
 "metadata": {
  "kernelspec": {
   "display_name": ".venv",
   "language": "python",
   "name": "python3"
  },
  "language_info": {
   "codemirror_mode": {
    "name": "ipython",
    "version": 3
   },
   "file_extension": ".py",
   "mimetype": "text/x-python",
   "name": "python",
   "nbconvert_exporter": "python",
   "pygments_lexer": "ipython3",
   "version": "3.11.9"
  }
 },
 "nbformat": 4,
 "nbformat_minor": 2
}
