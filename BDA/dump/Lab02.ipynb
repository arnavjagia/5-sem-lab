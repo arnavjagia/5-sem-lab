{
 "cells": [
  {
   "cell_type": "code",
   "execution_count": 19,
   "id": "d19b0e82",
   "metadata": {},
   "outputs": [],
   "source": [
    "from pyspark.sql import SparkSession\n",
    "\n",
    "spark = SparkSession.builder.getOrCreate()\n",
    "sc = spark.sparkContext"
   ]
  },
  {
   "cell_type": "code",
   "execution_count": 20,
   "id": "71429483",
   "metadata": {},
   "outputs": [],
   "source": [
    "df = spark.createDataFrame([\n",
    "    ('apple', 'red', 3),\n",
    "    ('banana', 'yellow', 5),\n",
    "    ('strawberry', 'red', 7)\n",
    "], schema='fruit string, color string, quantity int')"
   ]
  },
  {
   "cell_type": "markdown",
   "id": "003ae46b",
   "metadata": {},
   "source": [
    "Question 1"
   ]
  },
  {
   "cell_type": "code",
   "execution_count": 21,
   "id": "d6cd93bc",
   "metadata": {},
   "outputs": [
    {
     "name": "stdout",
     "output_type": "stream",
     "text": [
      "+----------+-----+--------+\n",
      "|     fruit|color|quantity|\n",
      "+----------+-----+--------+\n",
      "|     apple|  red|       3|\n",
      "|strawberry|  red|       7|\n",
      "+----------+-----+--------+\n",
      "\n",
      "+----------+------+--------+------------------------------+\n",
      "|     fruit| color|quantity|quantity squared for no reason|\n",
      "+----------+------+--------+------------------------------+\n",
      "|     apple|   red|       3|                           9.0|\n",
      "|    banana|yellow|       5|                          25.0|\n",
      "|strawberry|   red|       7|                          49.0|\n",
      "+----------+------+--------+------------------------------+\n",
      "\n"
     ]
    }
   ],
   "source": [
    "df.filter(df.color == 'red').show()\n",
    "\n",
    "df.withColumn('quantity squared for no reason', pow(df.quantity, 2)).show()"
   ]
  },
  {
   "cell_type": "markdown",
   "id": "ea7c5b66",
   "metadata": {},
   "source": [
    "Question 2"
   ]
  },
  {
   "cell_type": "code",
   "execution_count": 22,
   "id": "98b4c3d4",
   "metadata": {},
   "outputs": [
    {
     "name": "stdout",
     "output_type": "stream",
     "text": [
      "3 rows\n",
      "+----------+------+--------+\n",
      "|     fruit| color|quantity|\n",
      "+----------+------+--------+\n",
      "|     apple|   red|       3|\n",
      "|    banana|yellow|       5|\n",
      "|strawberry|   red|       7|\n",
      "+----------+------+--------+\n",
      "\n"
     ]
    }
   ],
   "source": [
    "print(df.count(), 'rows')\n",
    "df.show()"
   ]
  },
  {
   "cell_type": "markdown",
   "id": "0ec23e81",
   "metadata": {},
   "source": [
    "Question 3"
   ]
  },
  {
   "cell_type": "code",
   "execution_count": 23,
   "id": "e7986181",
   "metadata": {},
   "outputs": [
    {
     "name": "stdout",
     "output_type": "stream",
     "text": [
      "+-------------+-------------+\n",
      "|avg(quantity)|sum(quantity)|\n",
      "+-------------+-------------+\n",
      "|          5.0|           15|\n",
      "+-------------+-------------+\n",
      "\n"
     ]
    }
   ],
   "source": [
    "from pyspark.sql.functions import sum, avg\n",
    "\n",
    "df.select(avg(df.quantity), sum(df.quantity)).show()"
   ]
  },
  {
   "cell_type": "markdown",
   "id": "7e04bdab",
   "metadata": {},
   "source": [
    "Question 4"
   ]
  },
  {
   "cell_type": "code",
   "execution_count": 24,
   "id": "d74d635c",
   "metadata": {},
   "outputs": [],
   "source": [
    "file_path = 'data/foo.csv'\n",
    "df.write.csv(file_path, header=True, mode='overwrite') # 'overwrite' if the file alr exists"
   ]
  },
  {
   "cell_type": "markdown",
   "id": "3e1295d3",
   "metadata": {},
   "source": [
    "Question 5 using DataFrames"
   ]
  },
  {
   "cell_type": "code",
   "execution_count": 25,
   "id": "efd12b46",
   "metadata": {},
   "outputs": [
    {
     "name": "stdout",
     "output_type": "stream",
     "text": [
      "+----------+\n",
      "|word count|\n",
      "+----------+\n",
      "|     256.0|\n",
      "+----------+\n",
      "\n"
     ]
    }
   ],
   "source": [
    "from pyspark.sql.functions import udf, sum\n",
    "\n",
    "file_path = 'data/shakespeare.txt'\n",
    "df = spark.read.text(file_path) \n",
    "\n",
    "@udf\n",
    "def word_count(string):\n",
    "    return len(string.split())\n",
    "\n",
    "df.select(sum(word_count(df.value)).alias(\"word count\")).show() # usage"
   ]
  },
  {
   "cell_type": "markdown",
   "id": "1d58ed2f",
   "metadata": {},
   "source": [
    "Question 5 using RDDs"
   ]
  },
  {
   "cell_type": "code",
   "execution_count": 39,
   "id": "f411a6ec",
   "metadata": {},
   "outputs": [],
   "source": [
    "rdd = sc.textFile(file_path)"
   ]
  },
  {
   "cell_type": "code",
   "execution_count": 43,
   "id": "a062670d",
   "metadata": {},
   "outputs": [
    {
     "data": {
      "text/plain": [
       "[('of', 14), ('the', 14), ('to', 8), ('and', 7), ('To', 5)]"
      ]
     },
     "execution_count": 43,
     "metadata": {},
     "output_type": "execute_result"
    }
   ],
   "source": [
    "# count of individual words\n",
    "word_frequencies = rdd.flatMap(lambda line: line.split()) \\\n",
    "    .map(lambda word: (word, 1)) \\\n",
    "    .reduceByKey(lambda x, y: x + y)\n",
    "\n",
    "# displaying 5 most frequent words\n",
    "word_frequencies.top(5, key=lambda t: t[1])"
   ]
  },
  {
   "cell_type": "code",
   "execution_count": 42,
   "id": "a0bcbd67",
   "metadata": {},
   "outputs": [
    {
     "data": {
      "text/plain": [
       "256"
      ]
     },
     "execution_count": 42,
     "metadata": {},
     "output_type": "execute_result"
    }
   ],
   "source": [
    "# count of all words\n",
    "rdd.flatMap(lambda line: line.split()).count()"
   ]
  }
 ],
 "metadata": {
  "kernelspec": {
   "display_name": ".venv",
   "language": "python",
   "name": "python3"
  },
  "language_info": {
   "codemirror_mode": {
    "name": "ipython",
    "version": 3
   },
   "file_extension": ".py",
   "mimetype": "text/x-python",
   "name": "python",
   "nbconvert_exporter": "python",
   "pygments_lexer": "ipython3",
   "version": "3.11.9"
  }
 },
 "nbformat": 4,
 "nbformat_minor": 5
}
