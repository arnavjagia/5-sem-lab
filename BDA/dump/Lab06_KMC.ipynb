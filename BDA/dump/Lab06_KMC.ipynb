{
 "cells": [
  {
   "cell_type": "markdown",
   "metadata": {},
   "source": [
    "[KMeans clustering in PySpark](https://stackoverflow.com/questions/47585723/kmeans-clustering-in-pyspark]) -- StackOverflow"
   ]
  },
  {
   "cell_type": "code",
   "execution_count": 9,
   "metadata": {},
   "outputs": [],
   "source": [
    "from pyspark.sql import SparkSession\n",
    "spark = SparkSession.builder.getOrCreate()\n",
    "spark.sparkContext.setLogLevel(\"OFF\")"
   ]
  },
  {
   "cell_type": "markdown",
   "metadata": {},
   "source": [
    "Create the DataFrame"
   ]
  },
  {
   "cell_type": "code",
   "execution_count": 10,
   "metadata": {},
   "outputs": [
    {
     "name": "stdout",
     "output_type": "stream",
     "text": [
      "+-------+--------+---------+\n",
      "|   city|latitude|longitude|\n",
      "+-------+--------+---------+\n",
      "|  Delhi|    28.7|     77.1|\n",
      "|   Agra|    27.2|     78.0|\n",
      "|Manipal|    13.4|     74.8|\n",
      "|  Udupi|    13.3|     74.7|\n",
      "| Mumbai|    19.1|     72.9|\n",
      "|   Pune|    18.5|     73.9|\n",
      "+-------+--------+---------+\n",
      "\n"
     ]
    }
   ],
   "source": [
    "df = spark.createDataFrame([\n",
    "    (\"Delhi\", 28.7, 77.1),   \n",
    "    (\"Agra\", 27.2, 78.0),   \n",
    "    (\"Manipal\", 13.4, 74.8),\n",
    "    (\"Udupi\", 13.3, 74.7),   \n",
    "    (\"Mumbai\", 19.1, 72.9),   \n",
    "    (\"Pune\", 18.5, 73.9)    \n",
    "], schema=\"city string, latitude double, longitude double\")\n",
    "\n",
    "df.show()"
   ]
  },
  {
   "cell_type": "markdown",
   "metadata": {},
   "source": [
    "Assemble feature vectors"
   ]
  },
  {
   "cell_type": "code",
   "execution_count": 11,
   "metadata": {},
   "outputs": [
    {
     "name": "stdout",
     "output_type": "stream",
     "text": [
      "+-------+--------+---------+-----------+\n",
      "|   city|latitude|longitude|   features|\n",
      "+-------+--------+---------+-----------+\n",
      "|  Delhi|    28.7|     77.1|[28.7,77.1]|\n",
      "|   Agra|    27.2|     78.0|[27.2,78.0]|\n",
      "|Manipal|    13.4|     74.8|[13.4,74.8]|\n",
      "|  Udupi|    13.3|     74.7|[13.3,74.7]|\n",
      "| Mumbai|    19.1|     72.9|[19.1,72.9]|\n",
      "|   Pune|    18.5|     73.9|[18.5,73.9]|\n",
      "+-------+--------+---------+-----------+\n",
      "\n"
     ]
    }
   ],
   "source": [
    "from pyspark.ml.feature import VectorAssembler\n",
    "\n",
    "vecAssembler = VectorAssembler(inputCols=[\"latitude\", \"longitude\"], outputCol=\"features\")\n",
    "new_df = vecAssembler.transform(df)\n",
    "new_df.show()"
   ]
  },
  {
   "cell_type": "markdown",
   "metadata": {},
   "source": [
    "Fit the model"
   ]
  },
  {
   "cell_type": "code",
   "execution_count": 12,
   "metadata": {},
   "outputs": [],
   "source": [
    "from pyspark.ml.clustering import KMeans\n",
    "\n",
    "kmeans = KMeans(k=3, seed=1) \n",
    "model = kmeans.fit(new_df.select('features'))"
   ]
  },
  {
   "cell_type": "code",
   "execution_count": 13,
   "metadata": {},
   "outputs": [
    {
     "name": "stdout",
     "output_type": "stream",
     "text": [
      "+-------+--------+---------+-----------+----------+\n",
      "|   city|latitude|longitude|   features|prediction|\n",
      "+-------+--------+---------+-----------+----------+\n",
      "|  Delhi|    28.7|     77.1|[28.7,77.1]|         1|\n",
      "|   Agra|    27.2|     78.0|[27.2,78.0]|         1|\n",
      "|Manipal|    13.4|     74.8|[13.4,74.8]|         0|\n",
      "|  Udupi|    13.3|     74.7|[13.3,74.7]|         0|\n",
      "| Mumbai|    19.1|     72.9|[19.1,72.9]|         2|\n",
      "|   Pune|    18.5|     73.9|[18.5,73.9]|         2|\n",
      "+-------+--------+---------+-----------+----------+\n",
      "\n"
     ]
    }
   ],
   "source": [
    "transformed = model.transform(new_df)\n",
    "transformed.show()  "
   ]
  },
  {
   "cell_type": "markdown",
   "metadata": {},
   "source": [
    "Identify anomalies\n",
    "\n",
    "Randomly choosing cluster 0 to be the anomaly"
   ]
  },
  {
   "cell_type": "code",
   "execution_count": 14,
   "metadata": {},
   "outputs": [
    {
     "name": "stdout",
     "output_type": "stream",
     "text": [
      "+-------+\n",
      "|   city|\n",
      "+-------+\n",
      "|Manipal|\n",
      "|  Udupi|\n",
      "+-------+\n",
      "\n"
     ]
    }
   ],
   "source": [
    "transformed.where(\"prediction = 0\").select(\"city\").show()"
   ]
  }
 ],
 "metadata": {
  "kernelspec": {
   "display_name": ".venv",
   "language": "python",
   "name": "python3"
  },
  "language_info": {
   "codemirror_mode": {
    "name": "ipython",
    "version": 3
   },
   "file_extension": ".py",
   "mimetype": "text/x-python",
   "name": "python",
   "nbconvert_exporter": "python",
   "pygments_lexer": "ipython3",
   "version": "3.11.9"
  }
 },
 "nbformat": 4,
 "nbformat_minor": 2
}
