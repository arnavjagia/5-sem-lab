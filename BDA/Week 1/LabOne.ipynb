{
 "cells": [
  {
   "cell_type": "markdown",
   "metadata": {},
   "source": [
    "## Question 1"
   ]
  },
  {
   "cell_type": "code",
   "execution_count": 41,
   "metadata": {},
   "outputs": [
    {
     "data": {
      "text/plain": [
       "[['A', 'E', 'M', 'N', 'O', 'P', 'Y'],\n",
       " (0, 7, 3, 6, 1, 9, 5),\n",
       " (1, 7, 2, 3, 0, 8, 5),\n",
       " (1, 9, 0, 2, 4, 7, 6),\n",
       " (2, 5, 0, 3, 4, 7, 6),\n",
       " (2, 5, 0, 9, 1, 3, 6),\n",
       " (2, 5, 0, 9, 4, 8, 6),\n",
       " (2, 7, 1, 8, 3, 9, 5),\n",
       " (3, 1, 5, 4, 2, 9, 6),\n",
       " (3, 2, 1, 0, 4, 9, 5),\n",
       " (3, 2, 7, 1, 0, 9, 5),\n",
       " (3, 7, 0, 1, 2, 4, 5),\n",
       " (3, 7, 0, 1, 4, 8, 5),\n",
       " (3, 7, 0, 6, 4, 9, 5),\n",
       " (3, 7, 4, 0, 2, 9, 5),\n",
       " (4, 2, 0, 7, 1, 3, 5),\n",
       " (4, 2, 8, 3, 0, 9, 5),\n",
       " (4, 5, 8, 3, 1, 9, 6),\n",
       " (4, 7, 0, 2, 3, 5, 6),\n",
       " (4, 7, 1, 6, 2, 8, 5),\n",
       " (5, 3, 0, 7, 2, 4, 6),\n",
       " (5, 9, 1, 0, 2, 7, 6),\n",
       " (6, 2, 0, 3, 4, 8, 5),\n",
       " (6, 2, 0, 8, 1, 3, 5),\n",
       " (6, 2, 0, 8, 3, 7, 5),\n",
       " (6, 2, 0, 8, 4, 9, 5),\n",
       " (6, 7, 1, 9, 2, 8, 5),\n",
       " (6, 7, 3, 2, 0, 8, 5),\n",
       " (7, 2, 1, 6, 4, 9, 5),\n",
       " (7, 2, 3, 1, 4, 9, 5),\n",
       " (7, 2, 3, 6, 0, 8, 5),\n",
       " (7, 5, 0, 8, 2, 4, 6),\n",
       " (7, 9, 4, 2, 0, 8, 6),\n",
       " (8, 1, 0, 9, 2, 4, 6),\n",
       " (8, 2, 0, 4, 3, 6, 5),\n",
       " (8, 2, 0, 9, 1, 3, 5),\n",
       " (8, 2, 0, 9, 3, 7, 5),\n",
       " (8, 2, 6, 0, 4, 9, 5),\n",
       " (8, 3, 2, 4, 0, 7, 6),\n",
       " (8, 7, 1, 2, 0, 6, 5),\n",
       " (9, 2, 1, 4, 0, 6, 5),\n",
       " (9, 2, 1, 4, 3, 8, 5),\n",
       " (9, 7, 0, 3, 5, 8, 6),\n",
       " (9, 7, 0, 4, 1, 2, 5),\n",
       " (9, 7, 0, 4, 3, 6, 5),\n",
       " (9, 7, 4, 2, 0, 8, 5),\n",
       " (9, 7, 5, 1, 0, 8, 6)]"
      ]
     },
     "execution_count": 41,
     "metadata": {},
     "output_type": "execute_result"
    }
   ],
   "source": [
    "from itertools import permutations, chain\n",
    "\n",
    "def solve(A, B, target):\n",
    "    letters = sorted(set(chain(A, B, target)))\n",
    "    letter_to_index = {ch: i for i, ch in enumerate(letters)}\n",
    "    yield letters\n",
    "\n",
    "    def value(string, T):\n",
    "        res = 0\n",
    "        for ch in string:\n",
    "            i = letter_to_index[ch]\n",
    "            res = 10 * res + T[i]\n",
    "        return res\n",
    "    \n",
    "    def is_consistent(T):\n",
    "        return value(A, T) * value(B, T) == value(target, T)\n",
    "\n",
    "    for T in permutations(range(10), len(letters)):\n",
    "        if is_consistent(T):\n",
    "            yield T\n",
    "\n",
    "list(solve(\"PAY\", \"MY\", \"MONEY\"))\n"
   ]
  },
  {
   "cell_type": "markdown",
   "metadata": {},
   "source": [
    "## Question 2"
   ]
  },
  {
   "cell_type": "code",
   "execution_count": 54,
   "metadata": {},
   "outputs": [
    {
     "data": {
      "text/plain": [
       "[('it', 2), ('is', 2), ('what', 1)]"
      ]
     },
     "execution_count": 54,
     "metadata": {},
     "output_type": "execute_result"
    }
   ],
   "source": [
    "from collections import Counter\n",
    "\n",
    "def count_words(string):\n",
    "    counter = Counter(string.lower().split())\n",
    "    return sorted(counter.items(), key=lambda x: x[1], reverse=True)\n",
    "\n",
    "count_words(\"it is what it is\")"
   ]
  },
  {
   "cell_type": "markdown",
   "metadata": {},
   "source": [
    "## Question 3"
   ]
  },
  {
   "cell_type": "code",
   "execution_count": 80,
   "metadata": {},
   "outputs": [
    {
     "name": "stdout",
     "output_type": "stream",
     "text": [
      "8 files found, 9 words\n",
      "8 files added, 0 deleted, 8 modified\n",
      "8 files found, 6 words\n",
      "0 files added, 0 deleted, 8 modified\n"
     ]
    },
    {
     "ename": "KeyError",
     "evalue": "'something'",
     "output_type": "error",
     "traceback": [
      "\u001b[0;31m---------------------------------------------------------------------------\u001b[0m",
      "\u001b[0;31mKeyError\u001b[0m                                  Traceback (most recent call last)",
      "\u001b[0;32m<ipython-input-80-34e4a1e8f957>\u001b[0m in \u001b[0;36m<module>\u001b[0;34m()\u001b[0m\n\u001b[1;32m     40\u001b[0m         \u001b[0mtime\u001b[0m\u001b[0;34m.\u001b[0m\u001b[0msleep\u001b[0m\u001b[0;34m(\u001b[0m\u001b[0;36m1\u001b[0m\u001b[0;34m)\u001b[0m\u001b[0;34m\u001b[0m\u001b[0m\n\u001b[1;32m     41\u001b[0m \u001b[0;34m\u001b[0m\u001b[0m\n\u001b[0;32m---> 42\u001b[0;31m \u001b[0mmonitor\u001b[0m\u001b[0;34m(\u001b[0m\u001b[0;34m'/home/lplab/Desktop'\u001b[0m\u001b[0;34m)\u001b[0m\u001b[0;34m\u001b[0m\u001b[0m\n\u001b[0m",
      "\u001b[0;32m<ipython-input-80-34e4a1e8f957>\u001b[0m in \u001b[0;36mmonitor\u001b[0;34m(path)\u001b[0m\n\u001b[1;32m     22\u001b[0m         \u001b[0;32mif\u001b[0m \u001b[0mdeleted_files\u001b[0m \u001b[0;32mor\u001b[0m \u001b[0mnew_files\u001b[0m \u001b[0;32mor\u001b[0m \u001b[0mmodified_files\u001b[0m\u001b[0;34m:\u001b[0m\u001b[0;34m\u001b[0m\u001b[0m\n\u001b[1;32m     23\u001b[0m             \u001b[0;32mfor\u001b[0m \u001b[0mfile\u001b[0m \u001b[0;32min\u001b[0m \u001b[0mdeleted_files\u001b[0m \u001b[0;34m|\u001b[0m \u001b[0mmodified_files\u001b[0m\u001b[0;34m:\u001b[0m\u001b[0;34m\u001b[0m\u001b[0m\n\u001b[0;32m---> 24\u001b[0;31m                 \u001b[0mcount\u001b[0m \u001b[0;34m-=\u001b[0m \u001b[0mF\u001b[0m\u001b[0;34m[\u001b[0m\u001b[0mfile\u001b[0m\u001b[0;34m]\u001b[0m\u001b[0;34m\u001b[0m\u001b[0m\n\u001b[0m\u001b[1;32m     25\u001b[0m                 \u001b[0;32mdel\u001b[0m \u001b[0mF\u001b[0m\u001b[0;34m[\u001b[0m\u001b[0mfile\u001b[0m\u001b[0;34m]\u001b[0m\u001b[0;34m\u001b[0m\u001b[0m\n\u001b[1;32m     26\u001b[0m \u001b[0;34m\u001b[0m\u001b[0m\n",
      "\u001b[0;31mKeyError\u001b[0m: 'something'"
     ]
    }
   ],
   "source": [
    "import os, time\n",
    "\n",
    "def monitor(path):\n",
    "    previous_files = set()\n",
    "    prev_time = time.time()\n",
    "\n",
    "    F = dict() # F[file] = word count\n",
    "    count = 0  # current count of words\n",
    "\n",
    "    while True:\n",
    "        files = set(os.listdir(path))\n",
    "        current_time = time.time()\n",
    "\n",
    "        deleted_files = previous_files - files\n",
    "        new_files = files - previous_files\n",
    "\n",
    "        modified_files = {\n",
    "            file for file in files\n",
    "            if os.path.getmtime(path + '/' + file) > prev_time\n",
    "        }\n",
    "\n",
    "        if deleted_files or new_files or modified_files:\n",
    "            for file in deleted_files:\n",
    "                count -= F[file]\n",
    "                del F[file]\n",
    "\n",
    "            for file in new_files | modified_files:\n",
    "                try:\n",
    "                    with open(path + '/' + file) as f:\n",
    "                        f_count = len(f.read().split())\n",
    "                        F[file] = f_count\n",
    "                        count += f_count\n",
    "                except Exception as e:\n",
    "                    pass\n",
    "\n",
    "            print(f'{len(files)} files found, {count} words')\n",
    "            print(f'{len(new_files)} files added, {len(deleted_files)} deleted, {len(files)} modified')\n",
    "\n",
    "        previous_files = files\n",
    "        time.sleep(1)\n",
    "\n",
    "monitor('/home/lplab/Desktop')"
   ]
  },
  {
   "cell_type": "code",
   "execution_count": null,
   "metadata": {},
   "outputs": [],
   "source": [
    "import os, time\n",
    "\n",
    "def monitor(path):\n",
    "    previous_files = set()\n",
    "    prev_time = time.time()\n",
    "\n",
    "    F = dict() # F[file] = word count\n",
    "    count = 0  # current count of words\n",
    "\n",
    "    while True:\n",
    "        files = set(os.listdir(path))\n",
    "        current_time = time.time()\n",
    "\n",
    "        deleted_files = previous_files - files\n",
    "        new_files = files - previous_files \n",
    "            for file in new_files:\n",
    "                try:\n",
    "                    with open(path + '/' + file) as f:\n",
    "                        f_count = len(f.read().split())\n",
    "                        F[file] = f_count\n",
    "                        count += f_count\n",
    "                except Exception as e:\n",
    "                    pass\n",
    "\n",
    "            print(f'{len(files)} files found, {count} words')\n",
    "            print(f'{len(new_files)} files added, {len(deleted_files)} files deleted')\n",
    "\n",
    "        previous_files = files\n",
    "        time.sleep(1)\n",
    "\n",
    "monitor('/home/lplab/Desktop')"
   ]
  }
 ],
 "metadata": {
  "kernelspec": {
   "display_name": "Python 3",
   "language": "python",
   "name": "python3"
  },
  "language_info": {
   "codemirror_mode": {
    "name": "ipython",
    "version": 3
   },
   "file_extension": ".py",
   "mimetype": "text/x-python",
   "name": "python",
   "nbconvert_exporter": "python",
   "pygments_lexer": "ipython3",
   "version": "3.7.0"
  }
 },
 "nbformat": 4,
 "nbformat_minor": 2
}
