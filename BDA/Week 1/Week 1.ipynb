{
 "cells": [
  {
   "cell_type": "markdown",
   "metadata": {},
   "source": [
    "## Question 1"
   ]
  },
  {
   "cell_type": "code",
   "execution_count": 1,
   "metadata": {},
   "outputs": [
    {
     "name": "stdout",
     "output_type": "stream",
     "text": [
      "['P', 'A', 'Y', 'M', 'E', 'O', 'N']\n",
      "[2, 9, 4, 0, 6, 1, 7]\n",
      "[3, 2, 8, 0, 6, 1, 9]\n",
      "[5, 2, 8, 0, 6, 3, 1]\n",
      "[5, 7, 8, 0, 6, 3, 4]\n",
      "[6, 2, 5, 0, 7, 4, 3]\n",
      "[6, 4, 5, 0, 3, 1, 9]\n",
      "[7, 2, 8, 0, 6, 4, 3]\n",
      "[7, 5, 4, 1, 6, 2, 0]\n",
      "[8, 1, 0, 2, 9, 3, 4]\n",
      "[8, 3, 0, 1, 5, 2, 4]\n",
      "[8, 9, 4, 0, 6, 5, 3]\n",
      "[9, 0, 8, 4, 6, 1, 7]\n",
      "[9, 1, 0, 2, 7, 4, 5]\n",
      "[9, 1, 0, 2, 8, 5, 4]\n",
      "[9, 1, 0, 3, 6, 2, 7]\n",
      "[9, 1, 0, 3, 8, 4, 5]\n",
      "[9, 1, 0, 4, 8, 3, 6]\n",
      "[9, 1, 0, 5, 8, 2, 7]\n",
      "[9, 1, 4, 2, 6, 3, 7]\n",
      "[9, 2, 5, 0, 7, 6, 4]\n",
      "[9, 2, 5, 8, 7, 0, 4]\n",
      "[9, 3, 0, 4, 5, 1, 8]\n",
      "[9, 4, 5, 0, 3, 2, 8]\n",
      "[9, 4, 5, 2, 3, 1, 7]\n",
      "[9, 6, 0, 1, 8, 7, 2]\n",
      "[9, 6, 0, 5, 4, 1, 8]\n",
      "[9, 7, 0, 4, 5, 3, 6]\n",
      "[9, 7, 0, 8, 5, 2, 4]\n",
      "[9, 7, 4, 3, 6, 5, 0]\n"
     ]
    }
   ],
   "source": [
    "word1 = \"PAY\"\n",
    "word2 = \"ME\"\n",
    "result = \"MONEY\"\n",
    "\n",
    "# word1 * word2 = result\n",
    "\n",
    "char_map = {}\n",
    "for word in [word1, word2, result]:\n",
    "    for char in word:\n",
    "        char_map[char] = -1\n",
    "\n",
    "numbers = [0]*10\n",
    "\n",
    "def get_value(word, char_map):\n",
    "    value = 0\n",
    "    for ch in word:\n",
    "        value = value*10 + char_map[ch]\n",
    "    return value\n",
    "\n",
    "def dfs():\n",
    "    if all(value!=-1 for value in char_map.values()):\n",
    "        if get_value(word1, char_map) * get_value(word2, char_map) == get_value(result, char_map):\n",
    "            print(list(char_map.values()))\n",
    "        return\n",
    "    \n",
    "    for char in char_map:\n",
    "        if char_map[char]==-1:\n",
    "            break\n",
    "\n",
    "    for i in range(10):\n",
    "        if numbers[i] == 0:\n",
    "            char_map[char] = i\n",
    "            numbers[i] = 1\n",
    "            dfs()\n",
    "            char_map[char] = -1\n",
    "            numbers[i] = 0\n",
    "\n",
    "print(list(char_map.keys()))\n",
    "dfs()       "
   ]
  },
  {
   "cell_type": "markdown",
   "metadata": {},
   "source": [
    "## Question 2"
   ]
  },
  {
   "cell_type": "code",
   "execution_count": 10,
   "metadata": {},
   "outputs": [
    {
     "name": "stdout",
     "output_type": "stream",
     "text": [
      "[('it', 2), ('is', 2), ('what', 1)]\n"
     ]
    }
   ],
   "source": [
    "from collections import Counter\n",
    "\n",
    "def func(string):\n",
    "    counter = Counter(string.lower().split())\n",
    "    return sorted(counter.items(), key = lambda x:counter[x], reverse=True)\n",
    "\n",
    "string = \"it is what it is\"\n",
    "print(func(string))\n"
   ]
  },
  {
   "cell_type": "markdown",
   "metadata": {},
   "source": [
    "## Question 3"
   ]
  },
  {
   "cell_type": "code",
   "execution_count": 18,
   "metadata": {},
   "outputs": [
    {
     "name": "stdout",
     "output_type": "stream",
     "text": [
      "defaultdict(<class 'int'>, {'hello': 1, 'what': 1, 'are': 1, 'you': 2, 'doing': 3, 'i': 2, 'am': 2, 'not': 1, 'okay': 1, 'well': 1, 'how': 1, 'about': 1})\n"
     ]
    }
   ],
   "source": [
    "from collections import defaultdict\n",
    "import os\n",
    "import time\n",
    "import datetime\n",
    "\n",
    "d = defaultdict(int)\n",
    "start_date = datetime.datetime(2024, 7, 27, 15, 00)\n",
    "end_date = datetime.datetime(2024, 7, 27, 16, 1)\n",
    "start_date = time.mktime(start_date.timetuple())\n",
    "end_date = time.mktime(end_date.timetuple())\n",
    "path = \"dir\"\n",
    "dir_list = os.listdir(path)\n",
    "\n",
    "for file in dir_list:\n",
    "    file_path = f\"{path}/{file}\"\n",
    "    if start_date <= os.path.getctime(file_path) < end_date:\n",
    "        with open(file_path) as f:\n",
    "            for word in f.read().split():\n",
    "                d[word] +=1\n",
    "print(d)"
   ]
  },
  {
   "cell_type": "code",
   "execution_count": null,
   "metadata": {},
   "outputs": [],
   "source": []
  }
 ],
 "metadata": {
  "kernelspec": {
   "display_name": "Python 3",
   "language": "python",
   "name": "python3"
  },
  "language_info": {
   "codemirror_mode": {
    "name": "ipython",
    "version": 3
   },
   "file_extension": ".py",
   "mimetype": "text/x-python",
   "name": "python",
   "nbconvert_exporter": "python",
   "pygments_lexer": "ipython3",
   "version": "3.7.0"
  }
 },
 "nbformat": 4,
 "nbformat_minor": 2
}
