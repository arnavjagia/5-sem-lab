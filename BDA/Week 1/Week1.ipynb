{
 "cells": [
  {
   "cell_type": "markdown",
   "metadata": {},
   "source": [
    "## Q1  \n",
    "Solve the Anagram using brute force technique  \n",
    "  PAY  \n",
    "x  MY  \n",
    "@@@@@  \n",
    "MONEY"
   ]
  },
  {
   "cell_type": "code",
   "execution_count": 93,
   "metadata": {},
   "outputs": [
    {
     "name": "stdout",
     "output_type": "stream",
     "text": [
      "{'M': -1, 'O': -1, 'N': -1, 'Y': -1, 'P': -1, 'E': -1, 'A': -1}\n"
     ]
    }
   ],
   "source": [
    "def solve(multiplier: str, multiplicand: str, product: str):\n",
    "    d = {}\n",
    "    for letter in set(multiplier.upper() + multiplicand.upper() + product.upper()):\n",
    "        d[letter] = -1\n",
    "    numbers = [0] * 10\n",
    "    \n",
    "    \n",
    "\n",
    "if __name__ == \"__main__\" :\n",
    "    solve(\"PAY\", \"MY\", \"MONEY\")"
   ]
  },
  {
   "cell_type": "markdown",
   "metadata": {},
   "source": [
    "## Q2\n",
    "Write word count program in python and display the count of words in descending order of their frequencies"
   ]
  },
  {
   "cell_type": "code",
   "execution_count": 74,
   "metadata": {},
   "outputs": [
    {
     "name": "stdout",
     "output_type": "stream",
     "text": [
      "Lel: 4\n",
      "World: 3\n",
      "Hello: 2\n"
     ]
    }
   ],
   "source": [
    "from collections import defaultdict\n",
    "\n",
    "string = \"Hello World World Hello World Lel Lel Lel Lel\"\n",
    "count = defaultdict(int)\n",
    "\n",
    "for word in string.split():\n",
    "    count[word]+=1\n",
    "    \n",
    "for word in sorted(count, key=lambda x: count[x], reverse=True):\n",
    "    print(f\"{word}: {count[word]}\")"
   ]
  },
  {
   "cell_type": "markdown",
   "metadata": {},
   "source": [
    "## Q3  \n",
    "There are n text files in a directory. Find word count of each file & sum them up whenever additional files are added to the directory, the program must update word count. Find the word count based given range of time."
   ]
  },
  {
   "cell_type": "code",
   "execution_count": null,
   "metadata": {},
   "outputs": [],
   "source": []
  }
 ],
 "metadata": {
  "kernelspec": {
   "display_name": "Python 3",
   "language": "python",
   "name": "python3"
  },
  "language_info": {
   "codemirror_mode": {
    "name": "ipython",
    "version": 3
   },
   "file_extension": ".py",
   "mimetype": "text/x-python",
   "name": "python",
   "nbconvert_exporter": "python",
   "pygments_lexer": "ipython3",
   "version": "3.7.0"
  }
 },
 "nbformat": 4,
 "nbformat_minor": 2
}
